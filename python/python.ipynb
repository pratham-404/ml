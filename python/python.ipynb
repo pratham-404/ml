{
 "cells": [
  {
   "attachments": {},
   "cell_type": "markdown",
   "metadata": {},
   "source": [
    "## Python Basics"
   ]
  },
  {
   "cell_type": "code",
   "execution_count": 1,
   "metadata": {},
   "outputs": [],
   "source": [
    "# Variables(Containers)"
   ]
  },
  {
   "cell_type": "code",
   "execution_count": 2,
   "metadata": {},
   "outputs": [
    {
     "name": "stdout",
     "output_type": "stream",
     "text": [
      "1.3456\n",
      "1.35\n"
     ]
    }
   ],
   "source": [
    "# Arithmatic Operators( +, -, *, %, /, //, **)\n",
    "\n",
    "v = 1.3456\n",
    "print(v)\n",
    "print(round(v, 2)) # IMP"
   ]
  },
  {
   "attachments": {},
   "cell_type": "markdown",
   "metadata": {},
   "source": [
    "### Strings"
   ]
  },
  {
   "cell_type": "code",
   "execution_count": 3,
   "metadata": {},
   "outputs": [
    {
     "name": "stdout",
     "output_type": "stream",
     "text": [
      "hello\n",
      "hel\n"
     ]
    }
   ],
   "source": [
    "# Strings (0-indexed)\n",
    "\n",
    "s = \"hello\"\n",
    "# s[0] = 'k' # strings in python are immutable\n",
    "print(s)\n",
    "\n",
    "# here first index is included & second one is excluded\n",
    "print(s[0:3]) # i.e it will print index 0, 1, 2"
   ]
  },
  {
   "cell_type": "code",
   "execution_count": 4,
   "metadata": {},
   "outputs": [
    {
     "name": "stdout",
     "output_type": "stream",
     "text": [
      "lo\n"
     ]
    }
   ],
   "source": [
    "print(s[3:]) # automatically assigns last index "
   ]
  },
  {
   "cell_type": "code",
   "execution_count": 5,
   "metadata": {},
   "outputs": [
    {
     "name": "stdout",
     "output_type": "stream",
     "text": [
      "hell\n"
     ]
    }
   ],
   "source": [
    "print(s[:4]) # automatically assigns first index "
   ]
  },
  {
   "cell_type": "code",
   "execution_count": 6,
   "metadata": {},
   "outputs": [
    {
     "name": "stdout",
     "output_type": "stream",
     "text": [
      "o\n"
     ]
    }
   ],
   "source": [
    "print(s[-1]) # negative indexing"
   ]
  },
  {
   "cell_type": "code",
   "execution_count": 7,
   "metadata": {},
   "outputs": [
    {
     "name": "stdout",
     "output_type": "stream",
     "text": [
      "Hello\n",
      "Pratham\n",
      "Hello\n",
      "Pratham\n"
     ]
    }
   ],
   "source": [
    "# storing multiline string\n",
    "\n",
    "# 1. use \\n\n",
    "s1 = \"Hello\\nPratham\" \n",
    "\n",
    "# 2. use triple quotes(''')\n",
    "s2 = '''Hello\n",
    "Pratham'''\n",
    "\n",
    "print(s1)\n",
    "print(s2)"
   ]
  },
  {
   "cell_type": "code",
   "execution_count": 8,
   "metadata": {},
   "outputs": [
    {
     "name": "stdout",
     "output_type": "stream",
     "text": [
      "Seven's Cube: 343\n",
      "Seven's Cube:  343\n"
     ]
    }
   ],
   "source": [
    "# convert int to string\n",
    "s = \"Seven's Cube: \"\n",
    "v = 343\n",
    "\n",
    "# print(s+v) # ERROR\n",
    "print(s+str(v)) # IMP\n",
    "print(s, v) # IMP"
   ]
  },
  {
   "attachments": {},
   "cell_type": "markdown",
   "metadata": {},
   "source": [
    "### Lists"
   ]
  },
  {
   "cell_type": "code",
   "execution_count": 9,
   "metadata": {},
   "outputs": [
    {
     "name": "stdout",
     "output_type": "stream",
     "text": [
      "['abc', 'efg', 'hij', 'klm', 'nop', 'qrs', 'tuv', 'wxy']\n",
      "hij\n",
      "['hij', 'klm']\n",
      "['hij', 'klm', 'nop', 'qrs', 'tuv', 'wxy']\n",
      "['abc', 'efg', 'hij', 'klm']\n",
      "tuv\n"
     ]
    }
   ],
   "source": [
    "ls = [\"abc\", \"efg\", \"hij\", \"klm\", \"nop\", \"qrs\", \"tuv\", \"wxy\"]\n",
    "# 0-indexed & similar slicing like strings\n",
    "print(ls)\n",
    "print(ls[2])\n",
    "print(ls[2:4])\n",
    "print(ls[2:])\n",
    "print(ls[:4])\n",
    "print(ls[-2])"
   ]
  },
  {
   "cell_type": "code",
   "execution_count": 10,
   "metadata": {},
   "outputs": [
    {
     "name": "stdout",
     "output_type": "stream",
     "text": [
      "['xyz', 'efg', 'hij', 'klm', 'nop', 'qrs', 'tuv', 'wxy']\n"
     ]
    }
   ],
   "source": [
    "# lists are mutable\n",
    "ls[0] = \"xyz\"\n",
    "print(ls)"
   ]
  },
  {
   "cell_type": "code",
   "execution_count": 11,
   "metadata": {},
   "outputs": [
    {
     "name": "stdout",
     "output_type": "stream",
     "text": [
      "['xyz', 'efg', 'hij', 'klm', 'nop', 'qrs', 'tuv', 'wxy', 'abc']\n"
     ]
    }
   ],
   "source": [
    "ls.append(\"abc\") # adding elements at the end\n",
    "print(ls)"
   ]
  },
  {
   "cell_type": "code",
   "execution_count": 12,
   "metadata": {},
   "outputs": [
    {
     "name": "stdout",
     "output_type": "stream",
     "text": [
      "['abc', 'xyz', 'efg', 'hij', 'klm', 'nop', 'qrs', 'tuv', 'wxy', 'abc']\n"
     ]
    }
   ],
   "source": [
    "ls.insert(0,\"abc\") # adding elements at the given index\n",
    "print(ls)"
   ]
  },
  {
   "cell_type": "code",
   "execution_count": 13,
   "metadata": {},
   "outputs": [
    {
     "name": "stdout",
     "output_type": "stream",
     "text": [
      "length:  10\n"
     ]
    }
   ],
   "source": [
    "print(\"length: \", len(ls)) # length of list"
   ]
  },
  {
   "cell_type": "code",
   "execution_count": 14,
   "metadata": {},
   "outputs": [
    {
     "name": "stdout",
     "output_type": "stream",
     "text": [
      "True\n",
      "False\n"
     ]
    }
   ],
   "source": [
    "# in operator\n",
    "print(\"abc\" in ls)\n",
    "print(\"eds\" in ls)"
   ]
  },
  {
   "cell_type": "code",
   "execution_count": 15,
   "metadata": {},
   "outputs": [
    {
     "name": "stdout",
     "output_type": "stream",
     "text": [
      "['one', 'two']\n",
      "['three', 'four']\n",
      "['one', 'two', 'three', 'four']\n"
     ]
    }
   ],
   "source": [
    "# concatinating lists\n",
    "ls1 = [\"one\", \"two\"]\n",
    "ls2 = [\"three\", \"four\"]\n",
    "\n",
    "ls3 = ls1 + ls2\n",
    "\n",
    "print(ls1)\n",
    "print(ls2)\n",
    "print(ls3)"
   ]
  },
  {
   "attachments": {},
   "cell_type": "markdown",
   "metadata": {},
   "source": [
    "### Input"
   ]
  },
  {
   "cell_type": "code",
   "execution_count": 16,
   "metadata": {},
   "outputs": [
    {
     "name": "stdout",
     "output_type": "stream",
     "text": [
      "Square: 1\n"
     ]
    }
   ],
   "source": [
    "a = 1\n",
    "# a = input(\"Number: \")  #temp\n",
    "a = int(a)\n",
    "print(\"Square:\", a*a)"
   ]
  },
  {
   "attachments": {},
   "cell_type": "markdown",
   "metadata": {},
   "source": [
    "### Conditional Statements"
   ]
  },
  {
   "cell_type": "code",
   "execution_count": 17,
   "metadata": {},
   "outputs": [],
   "source": [
    "# Relational Operators( !=, ==, >, <, >=, <=)\n",
    "# Boolean Operators(and, or, not)"
   ]
  },
  {
   "cell_type": "code",
   "execution_count": 18,
   "metadata": {},
   "outputs": [
    {
     "name": "stdout",
     "output_type": "stream",
     "text": [
      "A\n"
     ]
    }
   ],
   "source": [
    "if 2 > 1:\n",
    "    print(\"A\")"
   ]
  },
  {
   "cell_type": "code",
   "execution_count": 19,
   "metadata": {},
   "outputs": [
    {
     "name": "stdout",
     "output_type": "stream",
     "text": [
      "B\n"
     ]
    }
   ],
   "source": [
    "if 1 > 2: \n",
    "    print(\"A\")\n",
    "else:\n",
    "    print(\"B\")"
   ]
  },
  {
   "cell_type": "code",
   "execution_count": 20,
   "metadata": {},
   "outputs": [
    {
     "name": "stdout",
     "output_type": "stream",
     "text": [
      "C\n"
     ]
    }
   ],
   "source": [
    "if 1 > 2:\n",
    "    print(\"A\")\n",
    "elif 2 < 3:\n",
    "    print(\"C\")\n",
    "else:\n",
    "    print(\"B\")"
   ]
  },
  {
   "attachments": {},
   "cell_type": "markdown",
   "metadata": {},
   "source": [
    "### Loops"
   ]
  },
  {
   "cell_type": "code",
   "execution_count": 21,
   "metadata": {},
   "outputs": [
    {
     "name": "stdout",
     "output_type": "stream",
     "text": [
      "Total: 1200\n"
     ]
    }
   ],
   "source": [
    "l = [100, 200, 150, 240, 160, 350]\n",
    "sum = 0\n",
    "\n",
    "# i = 0\n",
    "# while i<len(l):\n",
    "#     sum+=l[i]\n",
    "#     i+=1\n",
    "\n",
    "# for i in range(len(l)):\n",
    "#     sum+=l[i]\n",
    "\n",
    "for i in l:\n",
    "    sum+=i\n",
    "\n",
    "print(\"Total:\", sum)"
   ]
  },
  {
   "cell_type": "code",
   "execution_count": 22,
   "metadata": {},
   "outputs": [],
   "source": [
    "# break, continue & pass statements"
   ]
  },
  {
   "attachments": {},
   "cell_type": "markdown",
   "metadata": {},
   "source": [
    "### Functions"
   ]
  },
  {
   "cell_type": "code",
   "execution_count": 23,
   "metadata": {},
   "outputs": [
    {
     "name": "stdout",
     "output_type": "stream",
     "text": [
      "Total: 1200\n"
     ]
    }
   ],
   "source": [
    "def ls_sum(ls): # Arguments\n",
    "    # Function Body (Local Variables)\n",
    "    sum = 0\n",
    "    for i in ls:\n",
    "        sum+=i\n",
    "    return sum # Return Value\n",
    "\n",
    "# Global Variables\n",
    "l = [100, 200, 150, 240, 160, 350]\n",
    "print(\"Total:\", ls_sum(l))"
   ]
  },
  {
   "cell_type": "code",
   "execution_count": 24,
   "metadata": {},
   "outputs": [
    {
     "name": "stdout",
     "output_type": "stream",
     "text": [
      "81\n",
      "81\n",
      "16\n"
     ]
    }
   ],
   "source": [
    "def pw(a, b=2): # here 'b' is set to default value(2)\n",
    "    \"\"\"Documentation string(\"\"\"\"\"\")\n",
    "\n",
    "    Args:\n",
    "        a (_type_): _description_\n",
    "        b (int, optional): _description_. Defaults to 2.\n",
    "\n",
    "    Returns:\n",
    "        _type_: _description_\n",
    "    \"\"\"\n",
    "    return a**b\n",
    "\n",
    "# Argument types : \n",
    "#   1. Positional Arguments \n",
    "print(pw(3,4))\n",
    "\n",
    "#   2. Named Arguments\n",
    "print(pw(b=4,a=3))\n",
    "\n",
    "#   3. Default Arguments\n",
    "print(pw(4))\n",
    "\n",
    "# help(pw) # gives documentation about functions"
   ]
  },
  {
   "attachments": {},
   "cell_type": "markdown",
   "metadata": {},
   "source": [
    "### Dictionaries"
   ]
  },
  {
   "cell_type": "code",
   "execution_count": 25,
   "metadata": {},
   "outputs": [
    {
     "name": "stdout",
     "output_type": "stream",
     "text": [
      "2\n"
     ]
    }
   ],
   "source": [
    "# Dictionary: HashMap in Python\n",
    "# keys-value pairs (unique keys)\n",
    "roll_no = {\"rushil\" : 1, \"pratham\" : 2} \n",
    "\n",
    "# print(roll_no)\n",
    "print(roll_no[\"pratham\"])"
   ]
  },
  {
   "cell_type": "code",
   "execution_count": 26,
   "metadata": {},
   "outputs": [
    {
     "name": "stdout",
     "output_type": "stream",
     "text": [
      "{'rushil': 1, 'pratham': 2}\n",
      "{'rushil': 1, 'pratham': 2, 'chirag': 3}\n"
     ]
    }
   ],
   "source": [
    "print(roll_no)\n",
    "\n",
    "# adding pair in dictionary\n",
    "# roll_no.update({\"chirag\" : 3})\n",
    "roll_no[\"chirag\"] = 3  \n",
    "\n",
    "print(roll_no)"
   ]
  },
  {
   "cell_type": "code",
   "execution_count": 27,
   "metadata": {},
   "outputs": [
    {
     "name": "stdout",
     "output_type": "stream",
     "text": [
      "Roll no: 1, Name: rushil\n",
      "Roll no: 2, Name: pratham\n",
      "Roll no: 3, Name: chirag\n"
     ]
    }
   ],
   "source": [
    "# for key in roll_no:\n",
    "#     print(f\"Roll no: {roll_no[key]}, Name: {key}\")\n",
    "\n",
    "for k,v in roll_no.items():\n",
    "    print(f\"Roll no: {v}, Name: {k}\")"
   ]
  },
  {
   "cell_type": "code",
   "execution_count": 28,
   "metadata": {},
   "outputs": [
    {
     "name": "stdout",
     "output_type": "stream",
     "text": [
      "10\n"
     ]
    }
   ],
   "source": [
    "# Dictionaries are mutable in python\n",
    "roll_no[\"pratham\"] = 10 # if a key is already present it's value gets updated\n",
    "print(roll_no[\"pratham\"])"
   ]
  },
  {
   "cell_type": "code",
   "execution_count": 29,
   "metadata": {},
   "outputs": [
    {
     "name": "stdout",
     "output_type": "stream",
     "text": [
      "{'rushil': 1, 'pratham': 10, 'chirag': 3}\n",
      "{'rushil': 1, 'chirag': 3}\n"
     ]
    }
   ],
   "source": [
    "print(roll_no)\n",
    "\n",
    "# removing pair from dictionary\n",
    "# roll_no.pop(\"pratham\")\n",
    "del roll_no[\"pratham\"] \n",
    "\n",
    "print(roll_no)"
   ]
  },
  {
   "cell_type": "code",
   "execution_count": 30,
   "metadata": {},
   "outputs": [
    {
     "name": "stdout",
     "output_type": "stream",
     "text": [
      "False\n",
      "True\n"
     ]
    }
   ],
   "source": [
    "print(\"pratham\" in roll_no)\n",
    "print(\"rushil\" in roll_no)"
   ]
  },
  {
   "cell_type": "code",
   "execution_count": 31,
   "metadata": {},
   "outputs": [
    {
     "name": "stdout",
     "output_type": "stream",
     "text": [
      "{'rushil': 1, 'chirag': 3}\n",
      "{}\n"
     ]
    }
   ],
   "source": [
    "print(roll_no)\n",
    "roll_no.clear() # removing all pairs from dictionary\n",
    "print(roll_no)"
   ]
  },
  {
   "attachments": {},
   "cell_type": "markdown",
   "metadata": {},
   "source": [
    "### Tuples"
   ]
  },
  {
   "attachments": {},
   "cell_type": "markdown",
   "metadata": {},
   "source": [
    "#### List: All values have similar meaning [Homogeneous]\n",
    "    eg. names = [\"rushil\", \"pratham\", \"chirag\"]\n",
    "        expences = [200, 350, 400, 150] \n",
    "#### Tuple: All values have different meaning [Heterogeneous]\n",
    "    eg. coordinates = (2, 3) i.e (x-coordinate, y-coordinate)\n",
    "        address = (\"Badnapur\", \"Jalna\", 431202) (taluka, district, pincode)\n",
    "### Tuples are immutable Lists"
   ]
  },
  {
   "cell_type": "code",
   "execution_count": 32,
   "metadata": {},
   "outputs": [
    {
     "name": "stdout",
     "output_type": "stream",
     "text": [
      "2\n"
     ]
    }
   ],
   "source": [
    "coordinate = (2,3)\n",
    "print(coordinate[0])\n",
    "\n",
    "# coordinate[0] = 101 # ERROR: Tuples are Immutable "
   ]
  },
  {
   "attachments": {},
   "cell_type": "markdown",
   "metadata": {},
   "source": [
    "#### Modules"
   ]
  },
  {
   "cell_type": "code",
   "execution_count": 33,
   "metadata": {},
   "outputs": [
    {
     "name": "stdout",
     "output_type": "stream",
     "text": [
      "4.0\n",
      "3.141592653589793\n",
      "3.0\n",
      "2\n",
      "3\n"
     ]
    }
   ],
   "source": [
    "import math\n",
    "\n",
    "# gives all function in module\n",
    "# print(dir(math)) \n",
    "\n",
    "# gives documentation about functions & modules\n",
    "# print(help(math)) \n",
    "# print(help(math.sqrt))\n",
    "\n",
    "print(math.sqrt(16))\n",
    "print(math.pi)\n",
    "print(math.log10(1000))\n",
    "\n",
    "print(math.floor(2.4))\n",
    "print(math.ceil(2.4))"
   ]
  },
  {
   "cell_type": "code",
   "execution_count": 34,
   "metadata": {},
   "outputs": [
    {
     "name": "stdout",
     "output_type": "stream",
     "text": [
      "    October 2002\n",
      "Mo Tu We Th Fr Sa Su\n",
      "    1  2  3  4  5  6\n",
      " 7  8  9 10 11 12 13\n",
      "14 15 16 17 18 19 20\n",
      "21 22 23 24 25 26 27\n",
      "28 29 30 31\n",
      "\n",
      "False\n"
     ]
    }
   ],
   "source": [
    "import calendar\n",
    "\n",
    "# print(dir(calendar))\n",
    "\n",
    "c = calendar.month(2002, 10)\n",
    "print(c)\n",
    "# print(type(c))\n",
    "\n",
    "print(calendar.isleap(2002))"
   ]
  },
  {
   "cell_type": "code",
   "execution_count": 35,
   "metadata": {},
   "outputs": [
    {
     "name": "stdout",
     "output_type": "stream",
     "text": [
      "6.0\n",
      "9.0\n"
     ]
    }
   ],
   "source": [
    "# importing our custom made module\n",
    "# import modules.my_module as my \n",
    "\n",
    "import sys\n",
    "sys.path.append(\"./modules/\")\n",
    "import my_module as my\n",
    "\n",
    "# print(dir(my))\n",
    "# print(help(my.triangle_area))\n",
    "\n",
    "print(my.triangle_area(3,4))\n",
    "print(my.square_area(3))"
   ]
  },
  {
   "attachments": {},
   "cell_type": "markdown",
   "metadata": {},
   "source": [
    "#### JSON Objects"
   ]
  },
  {
   "cell_type": "code",
   "execution_count": 36,
   "metadata": {},
   "outputs": [
    {
     "name": "stdout",
     "output_type": "stream",
     "text": [
      "<class 'dict'>\n",
      "{'pratham': {'fname': 'pratham', 'mname': 'rajendra', 'lname': 'loya', 'reg_no': 201080068, 'branch': 'IT'}, 'chirag': {'fname': 'chirag', 'mname': 'anil', 'lname': 'kathoye', 'reg_no': 201080054, 'branch': 'IT'}}\n"
     ]
    }
   ],
   "source": [
    "import json\n",
    "\n",
    "student1 = {}\n",
    "\n",
    "student1[\"pratham\"] = {\n",
    "    \"fname\" : \"pratham\",\n",
    "    \"mname\" : \"rajendra\",\n",
    "    \"lname\" : \"loya\",\n",
    "    \"reg_no\" : 201080068,\n",
    "    \"branch\" : \"IT\"\n",
    "}\n",
    "\n",
    "student1[\"chirag\"] = {\n",
    "    \"fname\" : \"chirag\",\n",
    "    \"mname\" : \"anil\",\n",
    "    \"lname\" : \"kathoye\",\n",
    "    \"reg_no\" : 201080054,\n",
    "    \"branch\" : \"IT\"\n",
    "}\n",
    "\n",
    "print(type(student1))\n",
    "print(student1)"
   ]
  },
  {
   "cell_type": "code",
   "execution_count": 37,
   "metadata": {},
   "outputs": [
    {
     "name": "stdout",
     "output_type": "stream",
     "text": [
      "<class 'str'>\n",
      "{\n",
      "    \"pratham\": {\n",
      "        \"fname\": \"pratham\",\n",
      "        \"mname\": \"rajendra\",\n",
      "        \"lname\": \"loya\",\n",
      "        \"reg_no\": 201080068,\n",
      "        \"branch\": \"IT\"\n",
      "    },\n",
      "    \"chirag\": {\n",
      "        \"fname\": \"chirag\",\n",
      "        \"mname\": \"anil\",\n",
      "        \"lname\": \"kathoye\",\n",
      "        \"reg_no\": 201080054,\n",
      "        \"branch\": \"IT\"\n",
      "    }\n",
      "}\n"
     ]
    }
   ],
   "source": [
    "j1 = json.dumps(student1, indent=4) # dump string\n",
    "print(type(j1))\n",
    "print(j1)"
   ]
  },
  {
   "cell_type": "code",
   "execution_count": 38,
   "metadata": {},
   "outputs": [],
   "source": [
    "# writing json in text file\n",
    "with open(\"./files/json.txt\",\"w\") as f:\n",
    "    f.write(j1)"
   ]
  },
  {
   "cell_type": "code",
   "execution_count": 39,
   "metadata": {},
   "outputs": [
    {
     "name": "stdout",
     "output_type": "stream",
     "text": [
      "<class 'str'>\n",
      "{\n",
      "    \"pratham\": {\n",
      "        \"fname\": \"pratham\",\n",
      "        \"mname\": \"rajendra\",\n",
      "        \"lname\": \"loya\",\n",
      "        \"reg_no\": 201080068,\n",
      "        \"branch\": \"IT\"\n",
      "    },\n",
      "    \"chirag\": {\n",
      "        \"fname\": \"chirag\",\n",
      "        \"mname\": \"anil\",\n",
      "        \"lname\": \"kathoye\",\n",
      "        \"reg_no\": 201080054,\n",
      "        \"branch\": \"IT\"\n",
      "    }\n",
      "}\n"
     ]
    }
   ],
   "source": [
    "# reading json from text file\n",
    "r = open(\"./files/json.txt\", \"r\")\n",
    "j2 = r.read()\n",
    "print(type(j2))\n",
    "print(j2)"
   ]
  },
  {
   "cell_type": "code",
   "execution_count": 40,
   "metadata": {},
   "outputs": [
    {
     "name": "stdout",
     "output_type": "stream",
     "text": [
      "<class 'dict'>\n",
      "{'pratham': {'fname': 'pratham', 'mname': 'rajendra', 'lname': 'loya', 'reg_no': 201080068, 'branch': 'IT'}, 'chirag': {'fname': 'chirag', 'mname': 'anil', 'lname': 'kathoye', 'reg_no': 201080054, 'branch': 'IT'}}\n"
     ]
    }
   ],
   "source": [
    "student2 = json.loads(j2) # load string\n",
    "print(type(student2))\n",
    "print(student2)"
   ]
  },
  {
   "attachments": {},
   "cell_type": "markdown",
   "metadata": {},
   "source": [
    "#### Reading & Writing files\n",
    "    open(file_name & path, file_open_mode(read['r'] / write['w']))\n",
    "\n",
    "<img src=\"http://net-informations.com/python/file/img/modes.png\"></img>"
   ]
  },
  {
   "cell_type": "code",
   "execution_count": 41,
   "metadata": {},
   "outputs": [
    {
     "name": "stdout",
     "output_type": "stream",
     "text": [
      "{\n",
      "    \"pratham\": {\n",
      "        \"fname\": \"pratham\",\n",
      "        \"mname\": \"rajendra\",\n",
      "        \"lname\": \"loya\",\n",
      "        \"reg_no\": 201080068,\n",
      "        \"branch\": \"IT\"\n",
      "    },\n",
      "    \"chirag\": {\n",
      "        \"fname\": \"chirag\",\n",
      "        \"mname\": \"anil\",\n",
      "        \"lname\": \"kathoye\",\n",
      "        \"reg_no\": 201080054,\n",
      "        \"branch\": \"IT\"\n",
      "    }\n",
      "}\n"
     ]
    }
   ],
   "source": [
    "# replace(\\ by \\\\)\n",
    "# C:\\Users\\Pratham\\Documents\\ml\\python\\json.txt -> C:\\\\Users\\\\Pratham\\\\Documents\\\\ml\\\\python\\\\files\\\\json.txt \n",
    "\n",
    "# reading a file\n",
    "\n",
    "# f = open(\"C:\\\\Users\\\\Pratham\\\\Documents\\\\ml\\\\python\\\\files\\\\json.txt\", \"r\")\n",
    "# print(f.read())\n",
    "# f.close()\n",
    "\n",
    "# using 'with' resources are deallocated as we get out of scope\n",
    "with open(\"C:\\\\Users\\\\Pratham\\\\Documents\\\\ml\\\\python\\\\files\\\\json.txt\", \"r\") as f:\n",
    "    print(f.read())"
   ]
  },
  {
   "cell_type": "code",
   "execution_count": 42,
   "metadata": {},
   "outputs": [],
   "source": [
    "# writing in a file\n",
    "\n",
    "# f = open(\"C:\\\\Users\\\\Pratham\\\\Documents\\\\ml\\\\python\\\\files\\\\json.txt\", \"w\")\n",
    "# f.write(\"nothing\")\n",
    "# f.close()\n",
    "\n",
    "with open(\"C:\\\\Users\\\\Pratham\\\\Documents\\\\ml\\\\python\\\\files\\\\json.txt\", \"w\") as f:\n",
    "    f.write(\"nothing\")"
   ]
  },
  {
   "attachments": {},
   "cell_type": "markdown",
   "metadata": {},
   "source": [
    "#### Exception Handling"
   ]
  },
  {
   "cell_type": "code",
   "execution_count": 43,
   "metadata": {},
   "outputs": [
    {
     "name": "stdout",
     "output_type": "stream",
     "text": [
      "1.2\n",
      "Thank You\n"
     ]
    }
   ],
   "source": [
    "x, y = 12, 10\n",
    "# x, y = \"hi\", 10\n",
    "# x, y = 12, 0\n",
    "\n",
    "try:\n",
    "    z = x/y\n",
    "    print(z)\n",
    "except Exception as e:\n",
    "    print(type(e).__name__)\n",
    "finally: # Genereally used for deallocating resources\n",
    "    print(\"Thank You\")\n",
    "\n"
   ]
  },
  {
   "attachments": {},
   "cell_type": "markdown",
   "metadata": {},
   "source": [
    "#### OOPS"
   ]
  },
  {
   "cell_type": "code",
   "execution_count": 44,
   "metadata": {},
   "outputs": [
    {
     "name": "stdout",
     "output_type": "stream",
     "text": [
      "<__main__.Employee object at 0x00000191560CC580>\n",
      "<__main__.Employee object at 0x00000191560CCD00>\n"
     ]
    }
   ],
   "source": [
    "# class =>  \n",
    "#   1. properties      \n",
    "#   2. methods\n",
    "\n",
    "class Employee:\n",
    "    pass\n",
    "\n",
    "emp1 = Employee()\n",
    "emp2 = Employee()\n",
    "\n",
    "# different instances of class Employee\n",
    "print(emp1)\n",
    "print(emp2)"
   ]
  },
  {
   "cell_type": "code",
   "execution_count": 45,
   "metadata": {},
   "outputs": [
    {
     "name": "stdout",
     "output_type": "stream",
     "text": [
      "name: pratham\n",
      "age: 19\n",
      "contact_no:7297827071\n"
     ]
    }
   ],
   "source": [
    "emp = Employee()\n",
    "\n",
    "# manually setting values to classes\n",
    "emp.name = \"pratham\"\n",
    "emp.age = 19\n",
    "emp.contact_no = \"7297827071\"\n",
    "\n",
    "print(\"name: {}\\nage: {}\\ncontact_no:{}\".format(emp.name, emp.age, emp.contact_no))"
   ]
  },
  {
   "cell_type": "code",
   "execution_count": 46,
   "metadata": {},
   "outputs": [
    {
     "name": "stdout",
     "output_type": "stream",
     "text": [
      "name: kunal\n",
      "age: 22\n",
      "contact_no:8208785527\n"
     ]
    }
   ],
   "source": [
    "# setting values can easily be done using __init__ method\n",
    "class EmployeeNew:\n",
    "    def __init__(self, name, age, contact_no): # CONSTRUCTOR\n",
    "        self.name = name\n",
    "        self.age = age\n",
    "        self.contact_no = contact_no\n",
    "    def emp_info(self): # here 'self' is very important => referes to the same object\n",
    "        return f\"name: {self.name}\\nage: {self.age}\\ncontact_no:{self.contact_no}\"\n",
    "        \n",
    "emp_new = EmployeeNew(\"kunal\", 22, \"8208785527\")\n",
    "# print(\"name: {}\\nage: {}\\ncontact_no:{}\".format(emp_new.name, emp_new.age, emp_new.contact_no))\n",
    "# print(f\"name: {emp_new.name}\\nage: {emp_new.age}\\ncontact_no:{emp_new.contact_no}\")\n",
    "print(emp_new.emp_info())\n",
    "\n",
    "# print(EmployeeNew(\"siya\",13,\"9156062181\").emp_info())"
   ]
  },
  {
   "cell_type": "code",
   "execution_count": 47,
   "metadata": {},
   "outputs": [
    {
     "name": "stdout",
     "output_type": "stream",
     "text": [
      "salary: 500000\n",
      "salary(after raise): 520000\n",
      "\n",
      "Before:\n",
      "1.04\n",
      "{'name': 'pl', 'age': 19, 'contact_no': '7297827071', 'salary': 520000}\n",
      "1.04\n",
      "{'__module__': '__main__', 'no_of_emp': 1, 'raise_amount': 1.04, '__init__': <function Employee.__init__ at 0x00000191561148B0>, 'emp_info': <function Employee.emp_info at 0x00000191561143A0>, 'apply_raise': <function Employee.apply_raise at 0x0000019156115360>, '__dict__': <attribute '__dict__' of 'Employee' objects>, '__weakref__': <attribute '__weakref__' of 'Employee' objects>, '__doc__': None}\n",
      "\n",
      "After updating class variable:\n",
      "1.05\n",
      "{'name': 'pl', 'age': 19, 'contact_no': '7297827071', 'salary': 520000}\n",
      "1.05\n",
      "{'__module__': '__main__', 'no_of_emp': 1, 'raise_amount': 1.05, '__init__': <function Employee.__init__ at 0x00000191561148B0>, 'emp_info': <function Employee.emp_info at 0x00000191561143A0>, 'apply_raise': <function Employee.apply_raise at 0x0000019156115360>, '__dict__': <attribute '__dict__' of 'Employee' objects>, '__weakref__': <attribute '__weakref__' of 'Employee' objects>, '__doc__': None}\n",
      "\n",
      "After updating instance variable:\n",
      "1.06\n",
      "{'name': 'pl', 'age': 19, 'contact_no': '7297827071', 'salary': 520000, 'raise_amount': 1.06}\n",
      "1.05\n",
      "{'__module__': '__main__', 'no_of_emp': 1, 'raise_amount': 1.05, '__init__': <function Employee.__init__ at 0x00000191561148B0>, 'emp_info': <function Employee.emp_info at 0x00000191561143A0>, 'apply_raise': <function Employee.apply_raise at 0x0000019156115360>, '__dict__': <attribute '__dict__' of 'Employee' objects>, '__weakref__': <attribute '__weakref__' of 'Employee' objects>, '__doc__': None}\n",
      "\n",
      "Total no. of Employees: 1\n"
     ]
    }
   ],
   "source": [
    "# class variables are variables that are shared among all instances of a class\n",
    "# instance variables can be unique for each instance\n",
    "\n",
    "class Employee:\n",
    "    no_of_emp = 0\n",
    "    raise_amount = 1.04 # equal raise for all the employees\n",
    "\n",
    "    def __init__(self, name, age, contact_no,salary):\n",
    "        self.name = name\n",
    "        self.age = age\n",
    "        self.contact_no = contact_no\n",
    "        self.salary = salary\n",
    "        Employee.no_of_emp += 1\n",
    "    def emp_info(self): # here 'self' is very important => referes to the same instance\n",
    "        return f\"name: {self.name}\\nage: {self.age}\\ncontact_no:{self.contact_no}\"\n",
    "    def apply_raise(self): \n",
    "        # here Employee.raise_amount/self.raise_amount are same as class variables are shared among all the instances\n",
    "        self.salary = int(self.salary * self.raise_amount)\n",
    "\n",
    "p = Employee(\"pl\",19,\"7297827071\",500000)\n",
    "print(f\"salary: {p.salary}\")\n",
    "Employee.apply_raise(p)\n",
    "print(f\"salary(after raise): {p.salary}\")\n",
    "\n",
    "print(\"\\nBefore:\")\n",
    "print(p.raise_amount)\n",
    "print(p.__dict__) # no raise_amount \n",
    "print(Employee.raise_amount)\n",
    "print(Employee.__dict__) # raise_amount is a property of a class\n",
    "\n",
    "# we observe that raise_amount variable changes for both 'p' & Employee and 'p' still does not contain raise_amount variable\n",
    "# since class variables are shared amoung all instances of the class\n",
    "print(\"\\nAfter updating class variable:\") \n",
    "Employee.raise_amount = 1.05\n",
    "print(p.raise_amount)\n",
    "print(p.__dict__) # no raise_amount \n",
    "print(Employee.raise_amount)\n",
    "print(Employee.__dict__) # raise_amount is a property of a class\n",
    "\n",
    "# we observe that raise_amount variable changes for only 'p' and 'p' now contains raise_amount variable\n",
    "# because instance varibles can be unique for each class\n",
    "print(\"\\nAfter updating instance variable:\")\n",
    "p.raise_amount = 1.06\n",
    "print(p.raise_amount)\n",
    "print(p.__dict__) # no raise_amount \n",
    "print(Employee.raise_amount)\n",
    "print(Employee.__dict__) # raise_amount is a property of a class\n",
    "\n",
    "print(f\"\\nTotal no. of Employees: {Employee.no_of_emp}\")"
   ]
  },
  {
   "cell_type": "code",
   "execution_count": 48,
   "metadata": {},
   "outputs": [
    {
     "name": "stdout",
     "output_type": "stream",
     "text": [
      "name: pratham loya\n",
      "age: 19\n",
      "salary:7297827071\n",
      "False\n",
      "False\n"
     ]
    }
   ],
   "source": [
    "# methods, class-methods, static-methods\n",
    "\n",
    "class Employee:\n",
    "    raise_amount = 1.04\n",
    "\n",
    "    def __init__(self, first, last, age, salary):\n",
    "        self.first = first\n",
    "        self.last = last\n",
    "        self.age = age\n",
    "        self.salary = salary\n",
    "\n",
    "    # regular method {uses self to access specific instance of class}\n",
    "    def apply_raise(self): \n",
    "        # here Employee.raise_amount/self.raise_amount are same as class variables are shared among all the instances\n",
    "        self.salary = int(self.salary * self.raise_amount)\n",
    "        # if we access self.raise_amount here specific instance could have different value but the change is not affected in class variable\n",
    "\n",
    "    def emp_info(self):\n",
    "        return f\"name: {self.first} {self.last}\\nage: {self.age}\\nsalary:{self.salary}\"\n",
    "\n",
    "    # class method{uses cls to access class variables}\n",
    "    @classmethod\n",
    "    def set_raise_amount(cls, raise_amt):\n",
    "        # here the changes made in class variables using cls.raise_amount is affecting class varibles(i.e all instances of class)\n",
    "        cls.raise_amount = raise_amt # similar like \"Employee.raise_amount = raise_amt\"\n",
    "\n",
    "    # creating an alternative constructor \n",
    "    # In date time module we can create date time in various different forms by alternative constructor using @classmethods\n",
    "    @classmethod\n",
    "    def from_string(cls, emp_str):\n",
    "        first, last, age, salary = emp_str.split('-')\n",
    "        return cls(first, last, age, salary)\n",
    "\n",
    "    # normal functions => include 'self' in parameters\n",
    "    # class functions => includes 'cls' in parameters\n",
    "    # static function => does not include 'self'/'cls'\n",
    "\n",
    "    @staticmethod\n",
    "    def work_day(day):\n",
    "        if day.weekday() == 5 or day.weekday() == 6:\n",
    "            return False\n",
    "        return True\n",
    "\n",
    "emp1 = Employee.from_string(\"pratham-loya-19-7297827071\")\n",
    "print(emp1.emp_info())\n",
    "\n",
    "import datetime\n",
    "my_date = datetime.date(2022,7,17)\n",
    "print(Employee.work_day(my_date))\n",
    "print(emp1.work_day(my_date))"
   ]
  },
  {
   "cell_type": "code",
   "execution_count": 49,
   "metadata": {},
   "outputs": [],
   "source": [
    "# class inheritance\n",
    "# inherting attributes & methods from parent class to sub-class/child-class => code reusability\n",
    "\n",
    "class Employee:\n",
    "    raise_amount = 1.04\n",
    "\n",
    "    def __init__(self, first, last, age, salary):\n",
    "        self.first = first\n",
    "        self.last = last\n",
    "        self.age = age\n",
    "        self.salary = salary\n",
    "\n",
    "    def apply_raise(self): \n",
    "        self.salary = int(self.salary * self.raise_amount)\n",
    "\n",
    "    def fullname(self):\n",
    "        return \"{} {}\".format(self.first, self.last)\n",
    "    \n",
    "    def emp_info(self):\n",
    "        return f\"name: {self.first} {self.last}\\nage: {self.age}\\nsalary:{self.salary}\"\n",
    "\n",
    "# inheriting Employee class to Developer class\n",
    "class Developer(Employee): # now Developer class can access all attributes/functions of Employee class  \n",
    "    raise_amount = 1.10\n",
    "\n",
    "    def __init__(self, first, last, age, salary,prog_lang):\n",
    "        # Employee.__init__(self, first, last, age, salary)\n",
    "        # super is more maintainable in single inheritance\n",
    "        super().__init__(first, last, age, salary) # parent class handles initialization of these variables \n",
    "        self.prog_lang = prog_lang\n",
    "        \n",
    "    def dev_info(self):\n",
    "        return super().emp_info() + f\"\\nprog_lang: {self.prog_lang}\"\n",
    "\n",
    "class Manager(Employee):\n",
    "    def __init__(self, first, last, age, salary, employees=None):\n",
    "        super().__init__(first, last, age, salary)\n",
    "        \n",
    "        if employees is None:\n",
    "            self.employees = []\n",
    "        else:\n",
    "            self.employees = employees\n",
    "\n",
    "    def add_emp(self, emp):\n",
    "        if emp not in self.employees:\n",
    "            self.employees.append(emp)\n",
    "\n",
    "    def remove_emp(self, emp):\n",
    "        if emp in self.employees:\n",
    "            self.employees.remove(emp)\n",
    "\n",
    "    def print_emp(self):\n",
    "        for emp in self.employees:\n",
    "            print(emp.fullname())\n",
    "\n",
    "# print(help(Developer)) # method resolution order => 1.Developer     2. Employee\n",
    "\n",
    "emp1 = Employee(\"kunal\", \"loya\", 21, 100000) \n",
    "# print(emp1.salary)\n",
    "emp1.apply_raise() # 4% raise\n",
    "# print(emp1.salary)\n",
    "\n",
    "dev1 = Developer(\"pratham\", \"loya\", 19, 50000, \"python\")\n",
    "# print(dev1.salary)\n",
    "dev1.apply_raise() # 10% raise\n",
    "# print(dev1.salary)\n",
    "# print(dev1.dev_info())\n",
    "\n",
    "mgr1 = Manager(\"siya\", \"loya\", 13, 80000, [emp1])\n",
    "# print(mgr1.emp_info())\n",
    "# print(mgr1.print_emp())\n",
    "mgr1.add_emp(dev1)\n",
    "# print(mgr1.print_emp())\n",
    "mgr1.remove_emp(emp1)\n",
    "# print(mgr1.print_emp())\n",
    "\n",
    "# print(isinstance(mgr1,Manager))\n",
    "# print(isinstance(mgr1,Developer))\n",
    "# print(isinstance(mgr1,Employee)) # inheritance\n"
   ]
  },
  {
   "cell_type": "code",
   "execution_count": 50,
   "metadata": {},
   "outputs": [
    {
     "name": "stdout",
     "output_type": "stream",
     "text": [
      "__repr__:\n",
      "Employee(pratham, loya, 19, 150000)\n",
      "\n",
      "__str__:\n",
      "name: pratham loya\n",
      "age: 19\n",
      "salary:150000\n"
     ]
    }
   ],
   "source": [
    "# Special/Magic Methods\n",
    "# __ => thunder\n",
    "# https://www.section.io/engineering-education/dunder-methods-python/\n",
    "\n",
    "class Employee:\n",
    "    raise_amount = 1.04\n",
    "\n",
    "    def __init__(self, first, last, age, salary):\n",
    "        self.first = first\n",
    "        self.last = last\n",
    "        self.age = age\n",
    "        self.salary = salary\n",
    "\n",
    "    def apply_raise(self): \n",
    "        self.salary = int(self.salary * self.raise_amount)\n",
    "\n",
    "    def fullname(self):\n",
    "        return \"{} {}\".format(self.first, self.last)\n",
    "\n",
    "    def __repr__(self): # used for unambiguous representation of an object used for debugging, logging, etc\n",
    "        return f\"Employee({self.first}, {self.last}, {self.age}, {self.salary})\"\n",
    "\n",
    "    # if __str__ is not present then str() => will return output of __repr__\n",
    "    def __str__(self): # readable representation of an object\n",
    "        return f\"name: {self.first} {self.last}\\nage: {self.age}\\nsalary:{self.salary}\" # emp_info()\n",
    "\n",
    "emp1 = Employee(\"pratham\", \"loya\", 19, 150000)\n",
    "\n",
    "print(f\"__repr__:\\n{emp1.__repr__()}\\n\")\n",
    "print(f\"__str__:\\n{emp1.__str__()}\")\n"
   ]
  },
  {
   "cell_type": "code",
   "execution_count": 51,
   "metadata": {},
   "outputs": [
    {
     "name": "stdout",
     "output_type": "stream",
     "text": [
      "pratham.loya@email.com\n",
      "kunal.loya@email.com\n",
      "name: kunal, email: kunal.loya@email.com\n",
      "name: narendra, email: narendra.raut@email.com\n",
      "name: narendra, email: narendra.raut@email.com\n",
      "Delete Name!\n",
      "name: None, email: None.None@email.com\n"
     ]
    }
   ],
   "source": [
    "# Decorators => @property, @getter, @setter\n",
    "\n",
    "class Employee:\n",
    "    raise_amount = 1.04\n",
    "\n",
    "    def __init__(self, first, last):\n",
    "        self.first = first\n",
    "        self.last = last\n",
    "        # self.email = first + '.' + last + \"@email.com\" #Error\n",
    "        # self.email = self.first + '.' + self.last + \"@email.com\" #Error\n",
    "\n",
    "    @property # defining attributes as methods => auto updating attributes \n",
    "    def email(self): \n",
    "        return f\"{self.first}.{self.last}@email.com\"\n",
    "\n",
    "    @property\n",
    "    def fullname(self):\n",
    "        return f\"{self.first} {self.last}\"\n",
    "\n",
    "    @fullname.setter # @property_name.setter\n",
    "    def fullname(self, name):\n",
    "        first, last = name.split(' ')\n",
    "        self.first = first\n",
    "        self.last = last\n",
    "\n",
    "    @fullname.deleter # @property_name.deleter\n",
    "    def fullname(self):\n",
    "        print('Delete Name!')\n",
    "        self.first = None\n",
    "        self.last = None\n",
    "\n",
    "    def __str__(self):\n",
    "        return f\"name: {self.first}, email: {self.email}\"\n",
    "\n",
    "\n",
    "emp1 = Employee(\"pratham\", \"loya\")\n",
    "\n",
    "print(emp1.email)\n",
    "emp1.first = \"kunal\"\n",
    "print(emp1.email)\n",
    "\n",
    "print(emp1)\n",
    "emp1.fullname = \"narendra raut\"\n",
    "print(emp1)\n",
    "\n",
    "print(emp1)\n",
    "del emp1.fullname\n",
    "print(emp1)\n"
   ]
  },
  {
   "attachments": {},
   "cell_type": "markdown",
   "metadata": {},
   "source": [
    "#### Iterators"
   ]
  },
  {
   "cell_type": "code",
   "execution_count": 52,
   "metadata": {},
   "outputs": [
    {
     "name": "stdout",
     "output_type": "stream",
     "text": [
      "one\n",
      "two\n",
      "three\n"
     ]
    }
   ],
   "source": [
    "ls = ['one', 'two', 'three']\n",
    "\n",
    "# for i in ls: \n",
    "#     print(i)\n",
    "\n",
    "# dir(ls)\n",
    "# print(ls.__iter__()).\n",
    "\n",
    "itr1 = iter(ls)\n",
    "print(next(itr1))\n",
    "print(next(itr1))\n",
    "print(next(itr1))\n",
    "# print(next(itr1)) # ERROR"
   ]
  },
  {
   "cell_type": "code",
   "execution_count": 53,
   "metadata": {},
   "outputs": [
    {
     "name": "stdout",
     "output_type": "stream",
     "text": [
      "three\n",
      "two\n",
      "one\n"
     ]
    }
   ],
   "source": [
    "# reversed iteration through list\n",
    "# itr2 = reversed(ls)\n",
    "# print(next(itr2))\n",
    "# print(next(itr2))\n",
    "# print(next(itr2))\n",
    "\n",
    "for i in reversed(ls):\n",
    "    print(i)"
   ]
  },
  {
   "cell_type": "code",
   "execution_count": 54,
   "metadata": {},
   "outputs": [
    {
     "name": "stdout",
     "output_type": "stream",
     "text": [
      "sony\n",
      "sab\n"
     ]
    }
   ],
   "source": [
    "# Iterator in a class\n",
    "\n",
    "class Remote():\n",
    "    def __init__(self):\n",
    "        self.channels = ['sony', 'sab', 'hbo', 'max']\n",
    "        self.index = -1\n",
    "\n",
    "    def __iter__(self):\n",
    "        return self\n",
    "\n",
    "    def __next__(self):\n",
    "        self.index+=1\n",
    "        if self.index == len(self.channels):\n",
    "            raise StopIteration\n",
    "        return self.channels[self.index]\n",
    "    \n",
    "r = Remote()\n",
    "\n",
    "print(next(r))\n",
    "print(next(r))"
   ]
  },
  {
   "attachments": {},
   "cell_type": "markdown",
   "metadata": {},
   "source": [
    "#### Generators"
   ]
  },
  {
   "cell_type": "code",
   "execution_count": 55,
   "metadata": {},
   "outputs": [
    {
     "name": "stdout",
     "output_type": "stream",
     "text": [
      "0\n",
      "1\n",
      "1\n",
      "2\n",
      "3\n",
      "5\n",
      "8\n",
      "13\n",
      "21\n",
      "34\n",
      "55\n",
      "89\n"
     ]
    }
   ],
   "source": [
    "def fib():\n",
    "    a, b = 0, 1\n",
    "\n",
    "    while True:\n",
    "        yield a # different than return as the next method call starts from next line \n",
    "        a, b = b, a+b\n",
    "\n",
    "for f in fib():\n",
    "    if f > 100:\n",
    "        break\n",
    "    print(f)"
   ]
  },
  {
   "attachments": {},
   "cell_type": "markdown",
   "metadata": {},
   "source": [
    "#### List, Set, Dict"
   ]
  },
  {
   "cell_type": "code",
   "execution_count": 56,
   "metadata": {},
   "outputs": [
    {
     "name": "stdout",
     "output_type": "stream",
     "text": [
      "[2, 4]\n",
      "[1, 4, 9, 16, 25]\n"
     ]
    }
   ],
   "source": [
    "l = [1,2,3,4,5]\n",
    "\n",
    "l1 = [i for i in l if i%2 == 0]\n",
    "print(l1)\n",
    "l2 = [i*i for i in l]\n",
    "print(l2)"
   ]
  },
  {
   "cell_type": "code",
   "execution_count": 57,
   "metadata": {},
   "outputs": [
    {
     "name": "stdout",
     "output_type": "stream",
     "text": [
      "{1, 2, 3, 4, 5}\n"
     ]
    }
   ],
   "source": [
    "# set is a UNORDERED collection containing unique values \n",
    "s = set([1,2,3,4,5,2,1,4,2]) \n",
    "\n",
    "# if we want that the values of set should not be changed we can initialize frozenset()\n",
    "\n",
    "# Set Operations\n",
    "# x|y => UNION\n",
    "# x&y => INTERSECTION\n",
    "# x-y => MINUS\n",
    "# x<y => SUBSET\n",
    "\n",
    "print(s)"
   ]
  },
  {
   "cell_type": "code",
   "execution_count": 58,
   "metadata": {},
   "outputs": [
    {
     "name": "stdout",
     "output_type": "stream",
     "text": [
      "('mumbai', 'india')\n",
      "('ny', 'us')\n",
      "('paris', 'france')\n",
      "{'mumbai': 'india', 'ny': 'us', 'paris': 'france'}\n"
     ]
    }
   ],
   "source": [
    "cities = [\"mumbai\", \"ny\", 'paris']\n",
    "countries = [\"india\", \"us\", \"france\"]\n",
    "\n",
    "z = zip(cities,countries)\n",
    "for a in z:\n",
    "    print(a)\n",
    "\n",
    "d = {city:country for city, country in zip(cities, countries)}\n",
    "print(d)"
   ]
  },
  {
   "attachments": {},
   "cell_type": "markdown",
   "metadata": {},
   "source": [
    "#### Decorators"
   ]
  },
  {
   "cell_type": "code",
   "execution_count": 59,
   "metadata": {},
   "outputs": [
    {
     "name": "stdout",
     "output_type": "stream",
     "text": [
      "3.0350685119628906\n",
      "6.982326507568359\n"
     ]
    }
   ],
   "source": [
    "import time\n",
    "\n",
    "# nested functions: defining various properties of funvtions\n",
    "def exec_time(func): # function passed as an argument\n",
    "    def wrapper(*args, **kwargs):\n",
    "        start = time.time()\n",
    "        result = func(*args, **kwargs)\n",
    "        end = time.time()\n",
    "        print(str((end-start)*1000))\n",
    "        return result\n",
    "    return wrapper\n",
    "\n",
    "@exec_time # decorator\n",
    "def ls_square(ls):\n",
    "    return [i*i for i in ls]\n",
    "\n",
    "@exec_time\n",
    "def ls_cube(ls):\n",
    "    return [i*i*i for i in ls]\n",
    "\n",
    "l = range(1,99999)\n",
    "\n",
    "l1 = ls_square(l)\n",
    "l2 = ls_cube(l)"
   ]
  },
  {
   "attachments": {},
   "cell_type": "markdown",
   "metadata": {},
   "source": [
    "#### Multithreading"
   ]
  },
  {
   "cell_type": "code",
   "execution_count": 69,
   "metadata": {},
   "outputs": [],
   "source": [
    "import time\n",
    "import threading\n",
    "\n",
    "def square(ls):\n",
    "    l = [i*i for i in ls]\n",
    "    for i in l:\n",
    "        time.sleep(0.2)\n",
    "        print(f\"Square: {i}\")\n",
    "\n",
    "def cube(ls):\n",
    "    l = [i*i*i for i in ls]\n",
    "    for i in l:\n",
    "        time.sleep(0.2)\n",
    "        print(f\"Cube: {i}\")\n",
    "\n",
    "l = range(1,10)"
   ]
  },
  {
   "cell_type": "code",
   "execution_count": 70,
   "metadata": {},
   "outputs": [
    {
     "name": "stdout",
     "output_type": "stream",
     "text": [
      "Square: 1\n",
      "Square: 4\n",
      "Square: 9\n",
      "Square: 16\n",
      "Square: 25\n",
      "Square: 36\n",
      "Square: 49\n",
      "Square: 64\n",
      "Square: 81\n",
      "Cube: 1\n",
      "Cube: 8\n",
      "Cube: 27\n",
      "Cube: 64\n",
      "Cube: 125\n",
      "Cube: 216\n",
      "Cube: 343\n",
      "Cube: 512\n",
      "Cube: 729\n",
      "Execution Time:  3.667977809906006\n"
     ]
    }
   ],
   "source": [
    "t = time.time()\n",
    "\n",
    "square(l)\n",
    "cube(l)\n",
    "\n",
    "print(\"Execution Time: \",time.time()-t)"
   ]
  },
  {
   "cell_type": "code",
   "execution_count": 71,
   "metadata": {},
   "outputs": [
    {
     "name": "stdout",
     "output_type": "stream",
     "text": [
      "Cube: 1\n",
      "Square: 1\n",
      "Cube: 8\n",
      "Square: 4\n",
      "Cube: 27\n",
      "Square: 9\n",
      "Square: 16\n",
      "Cube: 64\n",
      "Square: 25Cube: 125\n",
      "\n",
      "Cube: 216Square: 36\n",
      "\n",
      "Cube: 343\n",
      "Square: 49\n",
      "Square: 64Cube: 512\n",
      "\n",
      "Square: 81Cube: 729\n",
      "\n",
      "Execution Time:  1.8450162410736084\n"
     ]
    }
   ],
   "source": [
    "t = time.time()\n",
    "\n",
    "t1 = threading.Thread(target=square, args=(l,))\n",
    "t2 = threading.Thread(target=cube, args=(l,))\n",
    "\n",
    "t1.start()\n",
    "t2.start()\n",
    "\n",
    "t1.join()\n",
    "t2.join()\n",
    "\n",
    "print(\"Execution Time: \",time.time()-t)"
   ]
  }
 ],
 "metadata": {
  "kernelspec": {
   "display_name": "venv",
   "language": "python",
   "name": "python3"
  },
  "language_info": {
   "codemirror_mode": {
    "name": "ipython",
    "version": 3
   },
   "file_extension": ".py",
   "mimetype": "text/x-python",
   "name": "python",
   "nbconvert_exporter": "python",
   "pygments_lexer": "ipython3",
   "version": "3.10.5"
  },
  "orig_nbformat": 4,
  "vscode": {
   "interpreter": {
    "hash": "e67bdea3ab344799b3db3926bb94eb3c6bb09edbe3b73faf58cb7bae61dfb27d"
   }
  }
 },
 "nbformat": 4,
 "nbformat_minor": 2
}
