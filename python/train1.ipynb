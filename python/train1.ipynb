{
 "cells": [
  {
   "cell_type": "code",
   "execution_count": 1,
   "metadata": {},
   "outputs": [
    {
     "ename": "ModuleNotFoundError",
     "evalue": "No module named 'sklearn'",
     "output_type": "error",
     "traceback": [
      "\u001b[1;31m---------------------------------------------------------------------------\u001b[0m",
      "\u001b[1;31mModuleNotFoundError\u001b[0m                       Traceback (most recent call last)",
      "\u001b[1;32mc:\\Users\\Pratham\\Desktop\\ml\\python\\train1.ipynb Cell 1\u001b[0m in \u001b[0;36m<cell line: 3>\u001b[1;34m()\u001b[0m\n\u001b[0;32m      <a href='vscode-notebook-cell:/c%3A/Users/Pratham/Desktop/ml/python/train1.ipynb#W0sZmlsZQ%3D%3D?line=0'>1</a>\u001b[0m \u001b[39mimport\u001b[39;00m \u001b[39mnumpy\u001b[39;00m \u001b[39mas\u001b[39;00m \u001b[39mnp\u001b[39;00m\n\u001b[0;32m      <a href='vscode-notebook-cell:/c%3A/Users/Pratham/Desktop/ml/python/train1.ipynb#W0sZmlsZQ%3D%3D?line=1'>2</a>\u001b[0m \u001b[39mimport\u001b[39;00m \u001b[39mpandas\u001b[39;00m \u001b[39mas\u001b[39;00m \u001b[39mpd\u001b[39;00m\n\u001b[1;32m----> <a href='vscode-notebook-cell:/c%3A/Users/Pratham/Desktop/ml/python/train1.ipynb#W0sZmlsZQ%3D%3D?line=2'>3</a>\u001b[0m \u001b[39mfrom\u001b[39;00m \u001b[39msklearn\u001b[39;00m\u001b[39m.\u001b[39;00m\u001b[39mmodel_selection\u001b[39;00m \u001b[39mimport\u001b[39;00m train_test_split\n\u001b[0;32m      <a href='vscode-notebook-cell:/c%3A/Users/Pratham/Desktop/ml/python/train1.ipynb#W0sZmlsZQ%3D%3D?line=3'>4</a>\u001b[0m \u001b[39mimport\u001b[39;00m \u001b[39mmatplotlib\u001b[39;00m\u001b[39m.\u001b[39;00m\u001b[39mpyplot\u001b[39;00m \u001b[39mas\u001b[39;00m \u001b[39mplt\u001b[39;00m\n",
      "\u001b[1;31mModuleNotFoundError\u001b[0m: No module named 'sklearn'"
     ]
    }
   ],
   "source": [
    "import numpy as np\n",
    "import pandas as pd\n",
    "from sklearn.model_selection import train_test_split\n",
    "import matplotlib.pyplot as plt"
   ]
  },
  {
   "cell_type": "code",
   "execution_count": null,
   "metadata": {},
   "outputs": [],
   "source": [
    "df = pd.read_csv('1.csv')"
   ]
  },
  {
   "cell_type": "code",
   "execution_count": null,
   "metadata": {},
   "outputs": [
    {
     "name": "stdout",
     "output_type": "stream",
     "text": [
      "<class 'pandas.core.frame.DataFrame'>\n",
      "RangeIndex: 8124 entries, 0 to 8123\n",
      "Data columns (total 23 columns):\n",
      " #   Column                    Non-Null Count  Dtype \n",
      "---  ------                    --------------  ----- \n",
      " 0   class                     8124 non-null   object\n",
      " 1   cap-shape                 8124 non-null   object\n",
      " 2   cap-surface               8124 non-null   object\n",
      " 3   cap-color                 8124 non-null   object\n",
      " 4   bruises                   8124 non-null   object\n",
      " 5   odor                      8124 non-null   object\n",
      " 6   gill-attachment           8124 non-null   object\n",
      " 7   gill-spacing              8124 non-null   object\n",
      " 8   gill-size                 8124 non-null   object\n",
      " 9   gill-color                8124 non-null   object\n",
      " 10  stalk-shape               8124 non-null   object\n",
      " 11  stalk-root                8124 non-null   object\n",
      " 12  stalk-surface-above-ring  8124 non-null   object\n",
      " 13  stalk-surface-below-ring  8124 non-null   object\n",
      " 14  stalk-color-above-ring    8124 non-null   object\n",
      " 15  stalk-color-below-ring    8124 non-null   object\n",
      " 16  veil-type                 8124 non-null   object\n",
      " 17  veil-color                8124 non-null   object\n",
      " 18  ring-number               8124 non-null   object\n",
      " 19  ring-type                 8124 non-null   object\n",
      " 20  spore-print-color         8124 non-null   object\n",
      " 21  population                8124 non-null   object\n",
      " 22  habitat                   8124 non-null   object\n",
      "dtypes: object(23)\n",
      "memory usage: 1.4+ MB\n"
     ]
    }
   ],
   "source": [
    "df.info()"
   ]
  },
  {
   "cell_type": "code",
   "execution_count": null,
   "metadata": {},
   "outputs": [
    {
     "data": {
      "text/plain": [
       "0       e\n",
       "1       c\n",
       "2       c\n",
       "3       e\n",
       "4       e\n",
       "       ..\n",
       "8119    ?\n",
       "8120    ?\n",
       "8121    ?\n",
       "8122    ?\n",
       "8123    ?\n",
       "Name: stalk-root, Length: 8124, dtype: object"
      ]
     },
     "execution_count": 4,
     "metadata": {},
     "output_type": "execute_result"
    }
   ],
   "source": [
    "df['stalk-root']"
   ]
  },
  {
   "cell_type": "code",
   "execution_count": null,
   "metadata": {},
   "outputs": [
    {
     "name": "stdout",
     "output_type": "stream",
     "text": [
      "stalk-root 2480\n"
     ]
    }
   ],
   "source": [
    "# Test\n",
    "for col in df.columns:\n",
    "    data = df[col]=='?'\n",
    "    if(len(data[data == True])>1):\n",
    "        print(col,len(data[data == True]))"
   ]
  },
  {
   "cell_type": "code",
   "execution_count": null,
   "metadata": {},
   "outputs": [],
   "source": [
    "df['stalk-root'][df['stalk-root']=='?']=None"
   ]
  },
  {
   "cell_type": "code",
   "execution_count": null,
   "metadata": {},
   "outputs": [],
   "source": [
    "df['stalk-root'].fillna(df['stalk-root'].mode(dropna=True)[0],inplace=True)"
   ]
  },
  {
   "cell_type": "code",
   "execution_count": null,
   "metadata": {},
   "outputs": [
    {
     "data": {
      "text/plain": [
       "(8124, 23)"
      ]
     },
     "execution_count": 8,
     "metadata": {},
     "output_type": "execute_result"
    }
   ],
   "source": [
    "df.shape"
   ]
  },
  {
   "cell_type": "code",
   "execution_count": null,
   "metadata": {},
   "outputs": [],
   "source": [
    "train, test = train_test_split(df,test_size=0.2)"
   ]
  },
  {
   "cell_type": "code",
   "execution_count": null,
   "metadata": {},
   "outputs": [
    {
     "data": {
      "text/plain": [
       "((6499, 23), (1625, 23))"
      ]
     },
     "execution_count": 10,
     "metadata": {},
     "output_type": "execute_result"
    }
   ],
   "source": [
    "train.shape,test.shape"
   ]
  },
  {
   "cell_type": "code",
   "execution_count": null,
   "metadata": {},
   "outputs": [],
   "source": [
    "def Entropy(DS,response_var):\n",
    "    P = np.array(DS[response_var].value_counts())\n",
    "    P = P/sum(P)\n",
    "    return -sum(P*np.log2(P))"
   ]
  },
  {
   "cell_type": "code",
   "execution_count": null,
   "metadata": {},
   "outputs": [],
   "source": [
    "def IG(S,column,response_var):\n",
    "    ESv = np.array([Entropy(S[S[column]==value],response_var) for value in set(S[column])])\n",
    "    Gain = Entropy(S,response_var)-sum(np.array(S[column].value_counts()/len(S)*ESv))\n",
    "    return Gain"
   ]
  },
  {
   "cell_type": "code",
   "execution_count": null,
   "metadata": {},
   "outputs": [],
   "source": [
    "class Node:\n",
    "    def __init__(self,column):\n",
    "        self.column = column\n",
    "        self.children = {}"
   ]
  },
  {
   "cell_type": "code",
   "execution_count": null,
   "metadata": {},
   "outputs": [],
   "source": [
    "def find_best_column(data,columns,response_var):\n",
    "    if len(columns)==1:\n",
    "        return columns[0]\n",
    "    max = 0\n",
    "    c = ''\n",
    "    for col in columns:\n",
    "        val = IG(data,col,response_var)\n",
    "        if max<val:\n",
    "            c = col\n",
    "            max = val\n",
    "    return c"
   ]
  },
  {
   "cell_type": "code",
   "execution_count": null,
   "metadata": {},
   "outputs": [],
   "source": [
    "def create_tree(data,predicting_vars,response_var,pruning_depth,d=0):\n",
    "    if d>=pruning_depth:\n",
    "        return max(data[response_var])\n",
    "    if Entropy(data,response_var)==0:\n",
    "        return max(data[response_var])\n",
    "        \n",
    "    col = find_best_column(data,predicting_vars,response_var)\n",
    "    predicting_vars.remove(col)\n",
    "    node = Node(col)\n",
    "    for val in set(data[col]):\n",
    "        node.children[val] = create_tree(data[data[col]==val],predicting_vars,response_var,pruning_depth,d+1)\n",
    "    predicting_vars.append(col)\n",
    "    return node"
   ]
  },
  {
   "cell_type": "code",
   "execution_count": null,
   "metadata": {},
   "outputs": [],
   "source": [
    "dt = create_tree(train,list(df.columns[1:]),'class',len(train.columns))"
   ]
  },
  {
   "cell_type": "code",
   "execution_count": null,
   "metadata": {},
   "outputs": [],
   "source": [
    "# Test\n",
    "# columns = list(df.columns[1:])\n",
    "# columns.remove('stalk-root')\n",
    "# dt = create_tree(train.drop(columns=['stalk-root']),columns,'class')"
   ]
  },
  {
   "cell_type": "code",
   "execution_count": null,
   "metadata": {},
   "outputs": [],
   "source": [
    "def predict(dt,data,response_var):\n",
    "    tree = dt\n",
    "    while tree != str(tree):\n",
    "        tree = tree.children[data[tree.column]]\n",
    "    return tree"
   ]
  },
  {
   "cell_type": "code",
   "execution_count": null,
   "metadata": {},
   "outputs": [],
   "source": [
    "def get_accuracy(dt,test,response_var):\n",
    "    l1 = np.array([predict(dt,test.iloc[i],\"class\") for i in range(len(test))])\n",
    "    l2 = np.array(test['class'])\n",
    "\n",
    "    return ((np.count_nonzero(l1==l2))/len(l1))*100"
   ]
  },
  {
   "cell_type": "code",
   "execution_count": null,
   "metadata": {},
   "outputs": [
    {
     "name": "stdout",
     "output_type": "stream",
     "text": [
      "My model accuracy is 100.0%\n"
     ]
    }
   ],
   "source": [
    "print(\"My model accuracy is {}%\".format(get_accuracy(dt,test,'class')))"
   ]
  },
  {
   "cell_type": "code",
   "execution_count": null,
   "metadata": {},
   "outputs": [
    {
     "data": {
      "image/png": "[encoded data removed]",
      "text/plain": [
       "<Figure size 1000x400 with 1 Axes>"
      ]
     },
     "metadata": {},
     "output_type": "display_data"
    }
   ],
   "source": [
    "def display_acc_comp():\n",
    "    x = np.arange(0,len(train.columns))\n",
    "    y_n = []\n",
    "    y_t = []\n",
    "    for i in x:\n",
    "        dti = create_tree(train,list(df.columns[1:]),'class',i)\n",
    "        y_n.append(get_accuracy(dti,test,'class'))\n",
    "        y_t.append(get_accuracy(dti,train,'class'))\n",
    "    y_test = np.array(y_n)\n",
    "    y_train = np.array(y_t)\n",
    "\n",
    "    fig, ax = plt.subplots(figsize=(10,4))\n",
    "    ax.plot(x,y_train,label='x_train')\n",
    "    ax.plot(x,y_test,label='x_test')\n",
    "    plt.ylabel('Accuracy')\n",
    "    plt.legend()\n",
    "    plt.xlabel('Tree Complexity (depth)')\n",
    "    plt.title(\"Accuracy vs Tree complexity\")\n",
    "    plt.xticks(list(range(len(x))),x)\n",
    "    ax.grid()\n",
    "\n",
    "display_acc_comp()"
   ]
  },
  {
   "cell_type": "code",
   "execution_count": null,
   "metadata": {},
   "outputs": [
    {
     "name": "stdout",
     "output_type": "stream",
     "text": [
      "odor\n",
      "\t s:p\n",
      "\t m:p\n",
      "\t p:p\n",
      "\t a:e\n",
      "\t f:p\n",
      "\t c:p\n",
      "\t y:p\n",
      "\t l:e\n",
      "\t n:stalk-root\n",
      "\t\t e:e\n",
      "\t\t c:p\n",
      "\t\t b:gill-attachment\n",
      "\t\t\t a:e\n",
      "\t\t\t f:gill-color\n",
      "\t\t\t\t p:e\n",
      "\t\t\t\t e:e\n",
      "\t\t\t\t h:e\n",
      "\t\t\t\t r:p\n",
      "\t\t\t\t w:habitat\n",
      "\t\t\t\t\t m:p\n",
      "\t\t\t\t\t p:e\n",
      "\t\t\t\t\t d:stalk-surface-above-ring\n",
      "\t\t\t\t\t\t s:e\n",
      "\t\t\t\t\t\t y:e\n",
      "\t\t\t\t\t\t k:p\n",
      "\t\t\t\t\t w:e\n",
      "\t\t\t\t\t l:cap-color\n",
      "\t\t\t\t\t\t c:e\n",
      "\t\t\t\t\t\t w:p\n",
      "\t\t\t\t\t\t n:e\n",
      "\t\t\t\t\t g:bruises\n",
      "\t\t\t\t\t\t t:p\n",
      "\t\t\t\t\t\t f:e\n",
      "\t\t\t\t u:e\n",
      "\t\t\t\t n:e\n",
      "\t\t\t\t g:gill-spacing\n",
      "\t\t\t\t\t c:p\n",
      "\t\t\t\t\t w:e\n"
     ]
    }
   ],
   "source": [
    "def display_tree(dt,d):\n",
    "    if dt == str(dt):\n",
    "        print(dt)\n",
    "        return\n",
    "    print(dt.column)\n",
    "    for k in dt.children.keys():\n",
    "        print(\"\\t\"*(d+1),k,end=\":\")\n",
    "        display_tree(dt.children[k],d+1)\n",
    "        \n",
    "display_tree(dt,0)"
   ]
  },
  {
   "cell_type": "code",
   "execution_count": null,
   "metadata": {},
   "outputs": [],
   "source": [
    "import pydot\n",
    "\n",
    "def draw(graph,parent_name, child_name):\n",
    "    edge = pydot.Edge(parent_name, child_name)\n",
    "    graph.add_edge(edge)\n",
    "\n",
    "def traverse(graph,tree):\n",
    "    for c in tree.children.values():\n",
    "        try:\n",
    "            draw(graph,tree.column,c.column)\n",
    "            traverse(graph,c)\n",
    "        except:\n",
    "            draw(graph,tree.column,c)\n",
    "\n",
    "graph = pydot.Dot(graph_type='digraph')\n",
    "traverse(graph,dt)"
   ]
  },
  {
   "cell_type": "code",
   "execution_count": null,
   "metadata": {},
   "outputs": [],
   "source": [
    "import io\n",
    "from PIL import Image"
   ]
  },
  {
   "cell_type": "code",
   "execution_count": null,
   "metadata": {},
   "outputs": [
    {
     "data": {
      "text/plain": [
       "<matplotlib.image.AxesImage at 0x7f5ed98aa670>"
      ]
     },
     "execution_count": 54,
     "metadata": {},
     "output_type": "execute_result"
    },
    {
     "data": {
      "image/png": "[encoded data removed]",
      "text/plain": [
       "<Figure size 640x480 with 1 Axes>"
      ]
     },
     "metadata": {},
     "output_type": "display_data"
    }
   ],
   "source": [
    "plt.imshow(np.array(Image.open(io.BytesIO(graph.create_png()))))"
   ]
  },
  {
   "cell_type": "markdown",
   "metadata": {},
   "source": [
    "# "
   ]
  },
  {
   "cell_type": "markdown",
   "metadata": {},
   "source": [
    "# Using Sklearn"
   ]
  },
  {
   "cell_type": "code",
   "execution_count": null,
   "metadata": {},
   "outputs": [],
   "source": [
    "from sklearn.tree import DecisionTreeClassifier"
   ]
  },
  {
   "cell_type": "markdown",
   "metadata": {},
   "source": [
    "### X,Y Split"
   ]
  },
  {
   "cell_type": "code",
   "execution_count": null,
   "metadata": {},
   "outputs": [],
   "source": [
    "X = df.drop(columns=['class'])\n",
    "Y = (df['class']=='p').astype(np.int32)"
   ]
  },
  {
   "cell_type": "code",
   "execution_count": null,
   "metadata": {},
   "outputs": [
    {
     "data": {
      "text/html": [
       "<div>\n",
       "<style scoped>\n",
       "    .dataframe tbody tr th:only-of-type {\n",
       "        vertical-align: middle;\n",
       "    }\n",
       "\n",
       "    .dataframe tbody tr th {\n",
       "        vertical-align: top;\n",
       "    }\n",
       "\n",
       "    .dataframe thead th {\n",
       "        text-align: right;\n",
       "    }\n",
       "</style>\n",
       "<table border=\"1\" class=\"dataframe\">\n",
       "  <thead>\n",
       "    <tr style=\"text-align: right;\">\n",
       "      <th></th>\n",
       "      <th>cap-shape</th>\n",
       "      <th>cap-surface</th>\n",
       "      <th>cap-color</th>\n",
       "      <th>bruises</th>\n",
       "      <th>odor</th>\n",
       "      <th>gill-attachment</th>\n",
       "      <th>gill-spacing</th>\n",
       "      <th>gill-size</th>\n",
       "      <th>gill-color</th>\n",
       "      <th>stalk-shape</th>\n",
       "      <th>...</th>\n",
       "      <th>stalk-surface-below-ring</th>\n",
       "      <th>stalk-color-above-ring</th>\n",
       "      <th>stalk-color-below-ring</th>\n",
       "      <th>veil-type</th>\n",
       "      <th>veil-color</th>\n",
       "      <th>ring-number</th>\n",
       "      <th>ring-type</th>\n",
       "      <th>spore-print-color</th>\n",
       "      <th>population</th>\n",
       "      <th>habitat</th>\n",
       "    </tr>\n",
       "  </thead>\n",
       "  <tbody>\n",
       "    <tr>\n",
       "      <th>0</th>\n",
       "      <td>x</td>\n",
       "      <td>s</td>\n",
       "      <td>n</td>\n",
       "      <td>t</td>\n",
       "      <td>p</td>\n",
       "      <td>f</td>\n",
       "      <td>c</td>\n",
       "      <td>n</td>\n",
       "      <td>k</td>\n",
       "      <td>e</td>\n",
       "      <td>...</td>\n",
       "      <td>s</td>\n",
       "      <td>w</td>\n",
       "      <td>w</td>\n",
       "      <td>p</td>\n",
       "      <td>w</td>\n",
       "      <td>o</td>\n",
       "      <td>p</td>\n",
       "      <td>k</td>\n",
       "      <td>s</td>\n",
       "      <td>u</td>\n",
       "    </tr>\n",
       "    <tr>\n",
       "      <th>1</th>\n",
       "      <td>x</td>\n",
       "      <td>s</td>\n",
       "      <td>y</td>\n",
       "      <td>t</td>\n",
       "      <td>a</td>\n",
       "      <td>f</td>\n",
       "      <td>c</td>\n",
       "      <td>b</td>\n",
       "      <td>k</td>\n",
       "      <td>e</td>\n",
       "      <td>...</td>\n",
       "      <td>s</td>\n",
       "      <td>w</td>\n",
       "      <td>w</td>\n",
       "      <td>p</td>\n",
       "      <td>w</td>\n",
       "      <td>o</td>\n",
       "      <td>p</td>\n",
       "      <td>n</td>\n",
       "      <td>n</td>\n",
       "      <td>g</td>\n",
       "    </tr>\n",
       "    <tr>\n",
       "      <th>2</th>\n",
       "      <td>b</td>\n",
       "      <td>s</td>\n",
       "      <td>w</td>\n",
       "      <td>t</td>\n",
       "      <td>l</td>\n",
       "      <td>f</td>\n",
       "      <td>c</td>\n",
       "      <td>b</td>\n",
       "      <td>n</td>\n",
       "      <td>e</td>\n",
       "      <td>...</td>\n",
       "      <td>s</td>\n",
       "      <td>w</td>\n",
       "      <td>w</td>\n",
       "      <td>p</td>\n",
       "      <td>w</td>\n",
       "      <td>o</td>\n",
       "      <td>p</td>\n",
       "      <td>n</td>\n",
       "      <td>n</td>\n",
       "      <td>m</td>\n",
       "    </tr>\n",
       "    <tr>\n",
       "      <th>3</th>\n",
       "      <td>x</td>\n",
       "      <td>y</td>\n",
       "      <td>w</td>\n",
       "      <td>t</td>\n",
       "      <td>p</td>\n",
       "      <td>f</td>\n",
       "      <td>c</td>\n",
       "      <td>n</td>\n",
       "      <td>n</td>\n",
       "      <td>e</td>\n",
       "      <td>...</td>\n",
       "      <td>s</td>\n",
       "      <td>w</td>\n",
       "      <td>w</td>\n",
       "      <td>p</td>\n",
       "      <td>w</td>\n",
       "      <td>o</td>\n",
       "      <td>p</td>\n",
       "      <td>k</td>\n",
       "      <td>s</td>\n",
       "      <td>u</td>\n",
       "    </tr>\n",
       "    <tr>\n",
       "      <th>4</th>\n",
       "      <td>x</td>\n",
       "      <td>s</td>\n",
       "      <td>g</td>\n",
       "      <td>f</td>\n",
       "      <td>n</td>\n",
       "      <td>f</td>\n",
       "      <td>w</td>\n",
       "      <td>b</td>\n",
       "      <td>k</td>\n",
       "      <td>t</td>\n",
       "      <td>...</td>\n",
       "      <td>s</td>\n",
       "      <td>w</td>\n",
       "      <td>w</td>\n",
       "      <td>p</td>\n",
       "      <td>w</td>\n",
       "      <td>o</td>\n",
       "      <td>e</td>\n",
       "      <td>n</td>\n",
       "      <td>a</td>\n",
       "      <td>g</td>\n",
       "    </tr>\n",
       "    <tr>\n",
       "      <th>...</th>\n",
       "      <td>...</td>\n",
       "      <td>...</td>\n",
       "      <td>...</td>\n",
       "      <td>...</td>\n",
       "      <td>...</td>\n",
       "      <td>...</td>\n",
       "      <td>...</td>\n",
       "      <td>...</td>\n",
       "      <td>...</td>\n",
       "      <td>...</td>\n",
       "      <td>...</td>\n",
       "      <td>...</td>\n",
       "      <td>...</td>\n",
       "      <td>...</td>\n",
       "      <td>...</td>\n",
       "      <td>...</td>\n",
       "      <td>...</td>\n",
       "      <td>...</td>\n",
       "      <td>...</td>\n",
       "      <td>...</td>\n",
       "      <td>...</td>\n",
       "    </tr>\n",
       "    <tr>\n",
       "      <th>8119</th>\n",
       "      <td>k</td>\n",
       "      <td>s</td>\n",
       "      <td>n</td>\n",
       "      <td>f</td>\n",
       "      <td>n</td>\n",
       "      <td>a</td>\n",
       "      <td>c</td>\n",
       "      <td>b</td>\n",
       "      <td>y</td>\n",
       "      <td>e</td>\n",
       "      <td>...</td>\n",
       "      <td>s</td>\n",
       "      <td>o</td>\n",
       "      <td>o</td>\n",
       "      <td>p</td>\n",
       "      <td>o</td>\n",
       "      <td>o</td>\n",
       "      <td>p</td>\n",
       "      <td>b</td>\n",
       "      <td>c</td>\n",
       "      <td>l</td>\n",
       "    </tr>\n",
       "    <tr>\n",
       "      <th>8120</th>\n",
       "      <td>x</td>\n",
       "      <td>s</td>\n",
       "      <td>n</td>\n",
       "      <td>f</td>\n",
       "      <td>n</td>\n",
       "      <td>a</td>\n",
       "      <td>c</td>\n",
       "      <td>b</td>\n",
       "      <td>y</td>\n",
       "      <td>e</td>\n",
       "      <td>...</td>\n",
       "      <td>s</td>\n",
       "      <td>o</td>\n",
       "      <td>o</td>\n",
       "      <td>p</td>\n",
       "      <td>n</td>\n",
       "      <td>o</td>\n",
       "      <td>p</td>\n",
       "      <td>b</td>\n",
       "      <td>v</td>\n",
       "      <td>l</td>\n",
       "    </tr>\n",
       "    <tr>\n",
       "      <th>8121</th>\n",
       "      <td>f</td>\n",
       "      <td>s</td>\n",
       "      <td>n</td>\n",
       "      <td>f</td>\n",
       "      <td>n</td>\n",
       "      <td>a</td>\n",
       "      <td>c</td>\n",
       "      <td>b</td>\n",
       "      <td>n</td>\n",
       "      <td>e</td>\n",
       "      <td>...</td>\n",
       "      <td>s</td>\n",
       "      <td>o</td>\n",
       "      <td>o</td>\n",
       "      <td>p</td>\n",
       "      <td>o</td>\n",
       "      <td>o</td>\n",
       "      <td>p</td>\n",
       "      <td>b</td>\n",
       "      <td>c</td>\n",
       "      <td>l</td>\n",
       "    </tr>\n",
       "    <tr>\n",
       "      <th>8122</th>\n",
       "      <td>k</td>\n",
       "      <td>y</td>\n",
       "      <td>n</td>\n",
       "      <td>f</td>\n",
       "      <td>y</td>\n",
       "      <td>f</td>\n",
       "      <td>c</td>\n",
       "      <td>n</td>\n",
       "      <td>b</td>\n",
       "      <td>t</td>\n",
       "      <td>...</td>\n",
       "      <td>k</td>\n",
       "      <td>w</td>\n",
       "      <td>w</td>\n",
       "      <td>p</td>\n",
       "      <td>w</td>\n",
       "      <td>o</td>\n",
       "      <td>e</td>\n",
       "      <td>w</td>\n",
       "      <td>v</td>\n",
       "      <td>l</td>\n",
       "    </tr>\n",
       "    <tr>\n",
       "      <th>8123</th>\n",
       "      <td>x</td>\n",
       "      <td>s</td>\n",
       "      <td>n</td>\n",
       "      <td>f</td>\n",
       "      <td>n</td>\n",
       "      <td>a</td>\n",
       "      <td>c</td>\n",
       "      <td>b</td>\n",
       "      <td>y</td>\n",
       "      <td>e</td>\n",
       "      <td>...</td>\n",
       "      <td>s</td>\n",
       "      <td>o</td>\n",
       "      <td>o</td>\n",
       "      <td>p</td>\n",
       "      <td>o</td>\n",
       "      <td>o</td>\n",
       "      <td>p</td>\n",
       "      <td>o</td>\n",
       "      <td>c</td>\n",
       "      <td>l</td>\n",
       "    </tr>\n",
       "  </tbody>\n",
       "</table>\n",
       "<p>8124 rows × 22 columns</p>\n",
       "</div>"
      ],
      "text/plain": [
       "     cap-shape cap-surface cap-color bruises odor gill-attachment  \\\n",
       "0            x           s         n       t    p               f   \n",
       "1            x           s         y       t    a               f   \n",
       "2            b           s         w       t    l               f   \n",
       "3            x           y         w       t    p               f   \n",
       "4            x           s         g       f    n               f   \n",
       "...        ...         ...       ...     ...  ...             ...   \n",
       "8119         k           s         n       f    n               a   \n",
       "8120         x           s         n       f    n               a   \n",
       "8121         f           s         n       f    n               a   \n",
       "8122         k           y         n       f    y               f   \n",
       "8123         x           s         n       f    n               a   \n",
       "\n",
       "     gill-spacing gill-size gill-color stalk-shape  ...  \\\n",
       "0               c         n          k           e  ...   \n",
       "1               c         b          k           e  ...   \n",
       "2               c         b          n           e  ...   \n",
       "3               c         n          n           e  ...   \n",
       "4               w         b          k           t  ...   \n",
       "...           ...       ...        ...         ...  ...   \n",
       "8119            c         b          y           e  ...   \n",
       "8120            c         b          y           e  ...   \n",
       "8121            c         b          n           e  ...   \n",
       "8122            c         n          b           t  ...   \n",
       "8123            c         b          y           e  ...   \n",
       "\n",
       "     stalk-surface-below-ring stalk-color-above-ring stalk-color-below-ring  \\\n",
       "0                           s                      w                      w   \n",
       "1                           s                      w                      w   \n",
       "2                           s                      w                      w   \n",
       "3                           s                      w                      w   \n",
       "4                           s                      w                      w   \n",
       "...                       ...                    ...                    ...   \n",
       "8119                        s                      o                      o   \n",
       "8120                        s                      o                      o   \n",
       "8121                        s                      o                      o   \n",
       "8122                        k                      w                      w   \n",
       "8123                        s                      o                      o   \n",
       "\n",
       "     veil-type veil-color ring-number ring-type spore-print-color population  \\\n",
       "0            p          w           o         p                 k          s   \n",
       "1            p          w           o         p                 n          n   \n",
       "2            p          w           o         p                 n          n   \n",
       "3            p          w           o         p                 k          s   \n",
       "4            p          w           o         e                 n          a   \n",
       "...        ...        ...         ...       ...               ...        ...   \n",
       "8119         p          o           o         p                 b          c   \n",
       "8120         p          n           o         p                 b          v   \n",
       "8121         p          o           o         p                 b          c   \n",
       "8122         p          w           o         e                 w          v   \n",
       "8123         p          o           o         p                 o          c   \n",
       "\n",
       "     habitat  \n",
       "0          u  \n",
       "1          g  \n",
       "2          m  \n",
       "3          u  \n",
       "4          g  \n",
       "...      ...  \n",
       "8119       l  \n",
       "8120       l  \n",
       "8121       l  \n",
       "8122       l  \n",
       "8123       l  \n",
       "\n",
       "[8124 rows x 22 columns]"
      ]
     },
     "execution_count": 27,
     "metadata": {},
     "output_type": "execute_result"
    }
   ],
   "source": [
    "X"
   ]
  },
  {
   "cell_type": "code",
   "execution_count": null,
   "metadata": {},
   "outputs": [
    {
     "data": {
      "text/plain": [
       "0       1\n",
       "1       0\n",
       "2       0\n",
       "3       1\n",
       "4       0\n",
       "       ..\n",
       "8119    0\n",
       "8120    0\n",
       "8121    0\n",
       "8122    1\n",
       "8123    0\n",
       "Name: class, Length: 8124, dtype: int32"
      ]
     },
     "execution_count": 28,
     "metadata": {},
     "output_type": "execute_result"
    }
   ],
   "source": [
    "Y"
   ]
  },
  {
   "cell_type": "code",
   "execution_count": null,
   "metadata": {},
   "outputs": [],
   "source": [
    "# Test\n",
    "# X = X.drop(columns='stalk-root')"
   ]
  },
  {
   "cell_type": "markdown",
   "metadata": {},
   "source": [
    "### Dummy varialbles"
   ]
  },
  {
   "cell_type": "code",
   "execution_count": null,
   "metadata": {},
   "outputs": [],
   "source": [
    "X_new = pd.get_dummies(X,drop_first=True)"
   ]
  },
  {
   "cell_type": "code",
   "execution_count": null,
   "metadata": {},
   "outputs": [
    {
     "data": {
      "text/html": [
       "<div>\n",
       "<style scoped>\n",
       "    .dataframe tbody tr th:only-of-type {\n",
       "        vertical-align: middle;\n",
       "    }\n",
       "\n",
       "    .dataframe tbody tr th {\n",
       "        vertical-align: top;\n",
       "    }\n",
       "\n",
       "    .dataframe thead th {\n",
       "        text-align: right;\n",
       "    }\n",
       "</style>\n",
       "<table border=\"1\" class=\"dataframe\">\n",
       "  <thead>\n",
       "    <tr style=\"text-align: right;\">\n",
       "      <th></th>\n",
       "      <th>cap-shape_c</th>\n",
       "      <th>cap-shape_f</th>\n",
       "      <th>cap-shape_k</th>\n",
       "      <th>cap-shape_s</th>\n",
       "      <th>cap-shape_x</th>\n",
       "      <th>cap-surface_g</th>\n",
       "      <th>cap-surface_s</th>\n",
       "      <th>cap-surface_y</th>\n",
       "      <th>cap-color_c</th>\n",
       "      <th>cap-color_e</th>\n",
       "      <th>...</th>\n",
       "      <th>population_n</th>\n",
       "      <th>population_s</th>\n",
       "      <th>population_v</th>\n",
       "      <th>population_y</th>\n",
       "      <th>habitat_g</th>\n",
       "      <th>habitat_l</th>\n",
       "      <th>habitat_m</th>\n",
       "      <th>habitat_p</th>\n",
       "      <th>habitat_u</th>\n",
       "      <th>habitat_w</th>\n",
       "    </tr>\n",
       "  </thead>\n",
       "  <tbody>\n",
       "    <tr>\n",
       "      <th>0</th>\n",
       "      <td>0</td>\n",
       "      <td>0</td>\n",
       "      <td>0</td>\n",
       "      <td>0</td>\n",
       "      <td>1</td>\n",
       "      <td>0</td>\n",
       "      <td>1</td>\n",
       "      <td>0</td>\n",
       "      <td>0</td>\n",
       "      <td>0</td>\n",
       "      <td>...</td>\n",
       "      <td>0</td>\n",
       "      <td>1</td>\n",
       "      <td>0</td>\n",
       "      <td>0</td>\n",
       "      <td>0</td>\n",
       "      <td>0</td>\n",
       "      <td>0</td>\n",
       "      <td>0</td>\n",
       "      <td>1</td>\n",
       "      <td>0</td>\n",
       "    </tr>\n",
       "    <tr>\n",
       "      <th>1</th>\n",
       "      <td>0</td>\n",
       "      <td>0</td>\n",
       "      <td>0</td>\n",
       "      <td>0</td>\n",
       "      <td>1</td>\n",
       "      <td>0</td>\n",
       "      <td>1</td>\n",
       "      <td>0</td>\n",
       "      <td>0</td>\n",
       "      <td>0</td>\n",
       "      <td>...</td>\n",
       "      <td>1</td>\n",
       "      <td>0</td>\n",
       "      <td>0</td>\n",
       "      <td>0</td>\n",
       "      <td>1</td>\n",
       "      <td>0</td>\n",
       "      <td>0</td>\n",
       "      <td>0</td>\n",
       "      <td>0</td>\n",
       "      <td>0</td>\n",
       "    </tr>\n",
       "    <tr>\n",
       "      <th>2</th>\n",
       "      <td>0</td>\n",
       "      <td>0</td>\n",
       "      <td>0</td>\n",
       "      <td>0</td>\n",
       "      <td>0</td>\n",
       "      <td>0</td>\n",
       "      <td>1</td>\n",
       "      <td>0</td>\n",
       "      <td>0</td>\n",
       "      <td>0</td>\n",
       "      <td>...</td>\n",
       "      <td>1</td>\n",
       "      <td>0</td>\n",
       "      <td>0</td>\n",
       "      <td>0</td>\n",
       "      <td>0</td>\n",
       "      <td>0</td>\n",
       "      <td>1</td>\n",
       "      <td>0</td>\n",
       "      <td>0</td>\n",
       "      <td>0</td>\n",
       "    </tr>\n",
       "    <tr>\n",
       "      <th>3</th>\n",
       "      <td>0</td>\n",
       "      <td>0</td>\n",
       "      <td>0</td>\n",
       "      <td>0</td>\n",
       "      <td>1</td>\n",
       "      <td>0</td>\n",
       "      <td>0</td>\n",
       "      <td>1</td>\n",
       "      <td>0</td>\n",
       "      <td>0</td>\n",
       "      <td>...</td>\n",
       "      <td>0</td>\n",
       "      <td>1</td>\n",
       "      <td>0</td>\n",
       "      <td>0</td>\n",
       "      <td>0</td>\n",
       "      <td>0</td>\n",
       "      <td>0</td>\n",
       "      <td>0</td>\n",
       "      <td>1</td>\n",
       "      <td>0</td>\n",
       "    </tr>\n",
       "    <tr>\n",
       "      <th>4</th>\n",
       "      <td>0</td>\n",
       "      <td>0</td>\n",
       "      <td>0</td>\n",
       "      <td>0</td>\n",
       "      <td>1</td>\n",
       "      <td>0</td>\n",
       "      <td>1</td>\n",
       "      <td>0</td>\n",
       "      <td>0</td>\n",
       "      <td>0</td>\n",
       "      <td>...</td>\n",
       "      <td>0</td>\n",
       "      <td>0</td>\n",
       "      <td>0</td>\n",
       "      <td>0</td>\n",
       "      <td>1</td>\n",
       "      <td>0</td>\n",
       "      <td>0</td>\n",
       "      <td>0</td>\n",
       "      <td>0</td>\n",
       "      <td>0</td>\n",
       "    </tr>\n",
       "    <tr>\n",
       "      <th>...</th>\n",
       "      <td>...</td>\n",
       "      <td>...</td>\n",
       "      <td>...</td>\n",
       "      <td>...</td>\n",
       "      <td>...</td>\n",
       "      <td>...</td>\n",
       "      <td>...</td>\n",
       "      <td>...</td>\n",
       "      <td>...</td>\n",
       "      <td>...</td>\n",
       "      <td>...</td>\n",
       "      <td>...</td>\n",
       "      <td>...</td>\n",
       "      <td>...</td>\n",
       "      <td>...</td>\n",
       "      <td>...</td>\n",
       "      <td>...</td>\n",
       "      <td>...</td>\n",
       "      <td>...</td>\n",
       "      <td>...</td>\n",
       "      <td>...</td>\n",
       "    </tr>\n",
       "    <tr>\n",
       "      <th>8119</th>\n",
       "      <td>0</td>\n",
       "      <td>0</td>\n",
       "      <td>1</td>\n",
       "      <td>0</td>\n",
       "      <td>0</td>\n",
       "      <td>0</td>\n",
       "      <td>1</td>\n",
       "      <td>0</td>\n",
       "      <td>0</td>\n",
       "      <td>0</td>\n",
       "      <td>...</td>\n",
       "      <td>0</td>\n",
       "      <td>0</td>\n",
       "      <td>0</td>\n",
       "      <td>0</td>\n",
       "      <td>0</td>\n",
       "      <td>1</td>\n",
       "      <td>0</td>\n",
       "      <td>0</td>\n",
       "      <td>0</td>\n",
       "      <td>0</td>\n",
       "    </tr>\n",
       "    <tr>\n",
       "      <th>8120</th>\n",
       "      <td>0</td>\n",
       "      <td>0</td>\n",
       "      <td>0</td>\n",
       "      <td>0</td>\n",
       "      <td>1</td>\n",
       "      <td>0</td>\n",
       "      <td>1</td>\n",
       "      <td>0</td>\n",
       "      <td>0</td>\n",
       "      <td>0</td>\n",
       "      <td>...</td>\n",
       "      <td>0</td>\n",
       "      <td>0</td>\n",
       "      <td>1</td>\n",
       "      <td>0</td>\n",
       "      <td>0</td>\n",
       "      <td>1</td>\n",
       "      <td>0</td>\n",
       "      <td>0</td>\n",
       "      <td>0</td>\n",
       "      <td>0</td>\n",
       "    </tr>\n",
       "    <tr>\n",
       "      <th>8121</th>\n",
       "      <td>0</td>\n",
       "      <td>1</td>\n",
       "      <td>0</td>\n",
       "      <td>0</td>\n",
       "      <td>0</td>\n",
       "      <td>0</td>\n",
       "      <td>1</td>\n",
       "      <td>0</td>\n",
       "      <td>0</td>\n",
       "      <td>0</td>\n",
       "      <td>...</td>\n",
       "      <td>0</td>\n",
       "      <td>0</td>\n",
       "      <td>0</td>\n",
       "      <td>0</td>\n",
       "      <td>0</td>\n",
       "      <td>1</td>\n",
       "      <td>0</td>\n",
       "      <td>0</td>\n",
       "      <td>0</td>\n",
       "      <td>0</td>\n",
       "    </tr>\n",
       "    <tr>\n",
       "      <th>8122</th>\n",
       "      <td>0</td>\n",
       "      <td>0</td>\n",
       "      <td>1</td>\n",
       "      <td>0</td>\n",
       "      <td>0</td>\n",
       "      <td>0</td>\n",
       "      <td>0</td>\n",
       "      <td>1</td>\n",
       "      <td>0</td>\n",
       "      <td>0</td>\n",
       "      <td>...</td>\n",
       "      <td>0</td>\n",
       "      <td>0</td>\n",
       "      <td>1</td>\n",
       "      <td>0</td>\n",
       "      <td>0</td>\n",
       "      <td>1</td>\n",
       "      <td>0</td>\n",
       "      <td>0</td>\n",
       "      <td>0</td>\n",
       "      <td>0</td>\n",
       "    </tr>\n",
       "    <tr>\n",
       "      <th>8123</th>\n",
       "      <td>0</td>\n",
       "      <td>0</td>\n",
       "      <td>0</td>\n",
       "      <td>0</td>\n",
       "      <td>1</td>\n",
       "      <td>0</td>\n",
       "      <td>1</td>\n",
       "      <td>0</td>\n",
       "      <td>0</td>\n",
       "      <td>0</td>\n",
       "      <td>...</td>\n",
       "      <td>0</td>\n",
       "      <td>0</td>\n",
       "      <td>0</td>\n",
       "      <td>0</td>\n",
       "      <td>0</td>\n",
       "      <td>1</td>\n",
       "      <td>0</td>\n",
       "      <td>0</td>\n",
       "      <td>0</td>\n",
       "      <td>0</td>\n",
       "    </tr>\n",
       "  </tbody>\n",
       "</table>\n",
       "<p>8124 rows × 94 columns</p>\n",
       "</div>"
      ],
      "text/plain": [
       "      cap-shape_c  cap-shape_f  cap-shape_k  cap-shape_s  cap-shape_x  \\\n",
       "0               0            0            0            0            1   \n",
       "1               0            0            0            0            1   \n",
       "2               0            0            0            0            0   \n",
       "3               0            0            0            0            1   \n",
       "4               0            0            0            0            1   \n",
       "...           ...          ...          ...          ...          ...   \n",
       "8119            0            0            1            0            0   \n",
       "8120            0            0            0            0            1   \n",
       "8121            0            1            0            0            0   \n",
       "8122            0            0            1            0            0   \n",
       "8123            0            0            0            0            1   \n",
       "\n",
       "      cap-surface_g  cap-surface_s  cap-surface_y  cap-color_c  cap-color_e  \\\n",
       "0                 0              1              0            0            0   \n",
       "1                 0              1              0            0            0   \n",
       "2                 0              1              0            0            0   \n",
       "3                 0              0              1            0            0   \n",
       "4                 0              1              0            0            0   \n",
       "...             ...            ...            ...          ...          ...   \n",
       "8119              0              1              0            0            0   \n",
       "8120              0              1              0            0            0   \n",
       "8121              0              1              0            0            0   \n",
       "8122              0              0              1            0            0   \n",
       "8123              0              1              0            0            0   \n",
       "\n",
       "      ...  population_n  population_s  population_v  population_y  habitat_g  \\\n",
       "0     ...             0             1             0             0          0   \n",
       "1     ...             1             0             0             0          1   \n",
       "2     ...             1             0             0             0          0   \n",
       "3     ...             0             1             0             0          0   \n",
       "4     ...             0             0             0             0          1   \n",
       "...   ...           ...           ...           ...           ...        ...   \n",
       "8119  ...             0             0             0             0          0   \n",
       "8120  ...             0             0             1             0          0   \n",
       "8121  ...             0             0             0             0          0   \n",
       "8122  ...             0             0             1             0          0   \n",
       "8123  ...             0             0             0             0          0   \n",
       "\n",
       "      habitat_l  habitat_m  habitat_p  habitat_u  habitat_w  \n",
       "0             0          0          0          1          0  \n",
       "1             0          0          0          0          0  \n",
       "2             0          1          0          0          0  \n",
       "3             0          0          0          1          0  \n",
       "4             0          0          0          0          0  \n",
       "...         ...        ...        ...        ...        ...  \n",
       "8119          1          0          0          0          0  \n",
       "8120          1          0          0          0          0  \n",
       "8121          1          0          0          0          0  \n",
       "8122          1          0          0          0          0  \n",
       "8123          1          0          0          0          0  \n",
       "\n",
       "[8124 rows x 94 columns]"
      ]
     },
     "execution_count": 31,
     "metadata": {},
     "output_type": "execute_result"
    }
   ],
   "source": [
    "X_new"
   ]
  },
  {
   "cell_type": "markdown",
   "metadata": {},
   "source": [
    "### Train Test Split"
   ]
  },
  {
   "cell_type": "code",
   "execution_count": null,
   "metadata": {},
   "outputs": [],
   "source": [
    "X_train,X_test,Y_train,Y_test = train_test_split(X_new,Y,test_size=0.2)"
   ]
  },
  {
   "cell_type": "code",
   "execution_count": null,
   "metadata": {},
   "outputs": [
    {
     "name": "stdout",
     "output_type": "stream",
     "text": [
      "<class 'pandas.core.frame.DataFrame'>\n",
      "Int64Index: 6499 entries, 3419 to 5365\n",
      "Data columns (total 94 columns):\n",
      " #   Column                      Non-Null Count  Dtype\n",
      "---  ------                      --------------  -----\n",
      " 0   cap-shape_c                 6499 non-null   uint8\n",
      " 1   cap-shape_f                 6499 non-null   uint8\n",
      " 2   cap-shape_k                 6499 non-null   uint8\n",
      " 3   cap-shape_s                 6499 non-null   uint8\n",
      " 4   cap-shape_x                 6499 non-null   uint8\n",
      " 5   cap-surface_g               6499 non-null   uint8\n",
      " 6   cap-surface_s               6499 non-null   uint8\n",
      " 7   cap-surface_y               6499 non-null   uint8\n",
      " 8   cap-color_c                 6499 non-null   uint8\n",
      " 9   cap-color_e                 6499 non-null   uint8\n",
      " 10  cap-color_g                 6499 non-null   uint8\n",
      " 11  cap-color_n                 6499 non-null   uint8\n",
      " 12  cap-color_p                 6499 non-null   uint8\n",
      " 13  cap-color_r                 6499 non-null   uint8\n",
      " 14  cap-color_u                 6499 non-null   uint8\n",
      " 15  cap-color_w                 6499 non-null   uint8\n",
      " 16  cap-color_y                 6499 non-null   uint8\n",
      " 17  bruises_t                   6499 non-null   uint8\n",
      " 18  odor_c                      6499 non-null   uint8\n",
      " 19  odor_f                      6499 non-null   uint8\n",
      " 20  odor_l                      6499 non-null   uint8\n",
      " 21  odor_m                      6499 non-null   uint8\n",
      " 22  odor_n                      6499 non-null   uint8\n",
      " 23  odor_p                      6499 non-null   uint8\n",
      " 24  odor_s                      6499 non-null   uint8\n",
      " 25  odor_y                      6499 non-null   uint8\n",
      " 26  gill-attachment_f           6499 non-null   uint8\n",
      " 27  gill-spacing_w              6499 non-null   uint8\n",
      " 28  gill-size_n                 6499 non-null   uint8\n",
      " 29  gill-color_e                6499 non-null   uint8\n",
      " 30  gill-color_g                6499 non-null   uint8\n",
      " 31  gill-color_h                6499 non-null   uint8\n",
      " 32  gill-color_k                6499 non-null   uint8\n",
      " 33  gill-color_n                6499 non-null   uint8\n",
      " 34  gill-color_o                6499 non-null   uint8\n",
      " 35  gill-color_p                6499 non-null   uint8\n",
      " 36  gill-color_r                6499 non-null   uint8\n",
      " 37  gill-color_u                6499 non-null   uint8\n",
      " 38  gill-color_w                6499 non-null   uint8\n",
      " 39  gill-color_y                6499 non-null   uint8\n",
      " 40  stalk-shape_t               6499 non-null   uint8\n",
      " 41  stalk-root_c                6499 non-null   uint8\n",
      " 42  stalk-root_e                6499 non-null   uint8\n",
      " 43  stalk-root_r                6499 non-null   uint8\n",
      " 44  stalk-surface-above-ring_k  6499 non-null   uint8\n",
      " 45  stalk-surface-above-ring_s  6499 non-null   uint8\n",
      " 46  stalk-surface-above-ring_y  6499 non-null   uint8\n",
      " 47  stalk-surface-below-ring_k  6499 non-null   uint8\n",
      " 48  stalk-surface-below-ring_s  6499 non-null   uint8\n",
      " 49  stalk-surface-below-ring_y  6499 non-null   uint8\n",
      " 50  stalk-color-above-ring_c    6499 non-null   uint8\n",
      " 51  stalk-color-above-ring_e    6499 non-null   uint8\n",
      " 52  stalk-color-above-ring_g    6499 non-null   uint8\n",
      " 53  stalk-color-above-ring_n    6499 non-null   uint8\n",
      " 54  stalk-color-above-ring_o    6499 non-null   uint8\n",
      " 55  stalk-color-above-ring_p    6499 non-null   uint8\n",
      " 56  stalk-color-above-ring_w    6499 non-null   uint8\n",
      " 57  stalk-color-above-ring_y    6499 non-null   uint8\n",
      " 58  stalk-color-below-ring_c    6499 non-null   uint8\n",
      " 59  stalk-color-below-ring_e    6499 non-null   uint8\n",
      " 60  stalk-color-below-ring_g    6499 non-null   uint8\n",
      " 61  stalk-color-below-ring_n    6499 non-null   uint8\n",
      " 62  stalk-color-below-ring_o    6499 non-null   uint8\n",
      " 63  stalk-color-below-ring_p    6499 non-null   uint8\n",
      " 64  stalk-color-below-ring_w    6499 non-null   uint8\n",
      " 65  stalk-color-below-ring_y    6499 non-null   uint8\n",
      " 66  veil-color_o                6499 non-null   uint8\n",
      " 67  veil-color_w                6499 non-null   uint8\n",
      " 68  veil-color_y                6499 non-null   uint8\n",
      " 69  ring-number_o               6499 non-null   uint8\n",
      " 70  ring-number_t               6499 non-null   uint8\n",
      " 71  ring-type_f                 6499 non-null   uint8\n",
      " 72  ring-type_l                 6499 non-null   uint8\n",
      " 73  ring-type_n                 6499 non-null   uint8\n",
      " 74  ring-type_p                 6499 non-null   uint8\n",
      " 75  spore-print-color_h         6499 non-null   uint8\n",
      " 76  spore-print-color_k         6499 non-null   uint8\n",
      " 77  spore-print-color_n         6499 non-null   uint8\n",
      " 78  spore-print-color_o         6499 non-null   uint8\n",
      " 79  spore-print-color_r         6499 non-null   uint8\n",
      " 80  spore-print-color_u         6499 non-null   uint8\n",
      " 81  spore-print-color_w         6499 non-null   uint8\n",
      " 82  spore-print-color_y         6499 non-null   uint8\n",
      " 83  population_c                6499 non-null   uint8\n",
      " 84  population_n                6499 non-null   uint8\n",
      " 85  population_s                6499 non-null   uint8\n",
      " 86  population_v                6499 non-null   uint8\n",
      " 87  population_y                6499 non-null   uint8\n",
      " 88  habitat_g                   6499 non-null   uint8\n",
      " 89  habitat_l                   6499 non-null   uint8\n",
      " 90  habitat_m                   6499 non-null   uint8\n",
      " 91  habitat_p                   6499 non-null   uint8\n",
      " 92  habitat_u                   6499 non-null   uint8\n",
      " 93  habitat_w                   6499 non-null   uint8\n",
      "dtypes: uint8(94)\n",
      "memory usage: 647.4 KB\n"
     ]
    }
   ],
   "source": [
    "X_train.info()"
   ]
  },
  {
   "cell_type": "code",
   "execution_count": null,
   "metadata": {},
   "outputs": [
    {
     "data": {
      "text/plain": [
       "DecisionTreeClassifier(criterion='entropy')"
      ]
     },
     "execution_count": 34,
     "metadata": {},
     "output_type": "execute_result"
    }
   ],
   "source": [
    "ml_dt = DecisionTreeClassifier(criterion='entropy')\n",
    "ml_dt.fit(X_train,Y_train)"
   ]
  },
  {
   "cell_type": "code",
   "execution_count": null,
   "metadata": {},
   "outputs": [
    {
     "data": {
      "text/plain": [
       "array([0, 1, 0, ..., 0, 1, 0], dtype=int32)"
      ]
     },
     "execution_count": 35,
     "metadata": {},
     "output_type": "execute_result"
    }
   ],
   "source": [
    "ml_dt.predict(X_test)"
   ]
  },
  {
   "cell_type": "code",
   "execution_count": null,
   "metadata": {},
   "outputs": [],
   "source": [
    "from sklearn.metrics import accuracy_score"
   ]
  },
  {
   "cell_type": "code",
   "execution_count": null,
   "metadata": {},
   "outputs": [
    {
     "name": "stdout",
     "output_type": "stream",
     "text": [
      "Sklearn model accuracy is 100.0%\n"
     ]
    }
   ],
   "source": [
    "print(\"Sklearn model accuracy is {}%\".format(accuracy_score(ml_dt.predict(X_test),Y_test)*100))"
   ]
  },
  {
   "cell_type": "markdown",
   "metadata": {},
   "source": [
    "# Comparison"
   ]
  },
  {
   "cell_type": "markdown",
   "metadata": {},
   "source": [
    "### Accuracy"
   ]
  },
  {
   "cell_type": "code",
   "execution_count": null,
   "metadata": {},
   "outputs": [
    {
     "name": "stdout",
     "output_type": "stream",
     "text": [
      "My model accuracy is 100.0%\n",
      "Sklearn model accuracy is 100.0%\n"
     ]
    }
   ],
   "source": [
    "print(\"My model accuracy is {}%\".format(get_accuracy(dt,test,'class')))\n",
    "print(\"Sklearn model accuracy is {}%\".format(accuracy_score(ml_dt.predict(X_test),Y_test)*100))"
   ]
  },
  {
   "cell_type": "markdown",
   "metadata": {},
   "source": [
    "### Time"
   ]
  },
  {
   "cell_type": "code",
   "execution_count": null,
   "metadata": {},
   "outputs": [],
   "source": [
    "import time as tm"
   ]
  },
  {
   "cell_type": "code",
   "execution_count": null,
   "metadata": {},
   "outputs": [],
   "source": [
    "def find_time(fn):\n",
    "    start_time = tm.time()\n",
    "    fn()\n",
    "    return tm.time()-start_time\n",
    "\n",
    "def find_avg_time(fn):\n",
    "    return np.array([find_time(fn) for i in range(10)]).mean()"
   ]
  },
  {
   "cell_type": "code",
   "execution_count": null,
   "metadata": {},
   "outputs": [],
   "source": [
    "def my_model_fit():\n",
    "    create_tree(train,list(df.columns[:-1]),'class',len(train.columns))\n",
    "\n",
    "def sklearn_model_fit():\n",
    "    ml_dt.fit(X_train,Y_train)"
   ]
  },
  {
   "cell_type": "code",
   "execution_count": null,
   "metadata": {},
   "outputs": [
    {
     "name": "stdout",
     "output_type": "stream",
     "text": [
      "My model time is 0.1896611452102661s\n",
      "Sklearn model time is 0.014520025253295899s\n"
     ]
    }
   ],
   "source": [
    "print(\"My model time is {}s\".format(find_avg_time(my_model_fit)))\n",
    "print(\"Sklearn model time is {}s\".format(find_avg_time(sklearn_model_fit)))"
   ]
  },
  {
   "cell_type": "markdown",
   "metadata": {},
   "source": [
    "### Complexity"
   ]
  },
  {
   "cell_type": "code",
   "execution_count": null,
   "metadata": {},
   "outputs": [],
   "source": [
    "from sklearn import tree"
   ]
  },
  {
   "cell_type": "code",
   "execution_count": null,
   "metadata": {},
   "outputs": [
    {
     "data": {
      "text/plain": [
       "[Text(0.5, 0.9285714285714286, 'X[22] <= 0.5\\nentropy = 0.999\\nsamples = 6499\\nvalue = [3378, 3121]'),\n",
       " Text(0.23076923076923078, 0.7857142857142857, 'X[17] <= 0.5\\nentropy = 0.67\\nsamples = 3670\\nvalue = [644, 3026]'),\n",
       " Text(0.15384615384615385, 0.6428571428571429, 'entropy = 0.0\\nsamples = 2587\\nvalue = [0, 2587]'),\n",
       " Text(0.3076923076923077, 0.6428571428571429, 'X[41] <= 0.5\\nentropy = 0.974\\nsamples = 1083\\nvalue = [644, 439]'),\n",
       " Text(0.23076923076923078, 0.5, 'X[43] <= 0.5\\nentropy = 0.929\\nsamples = 670\\nvalue = [231, 439]'),\n",
       " Text(0.15384615384615385, 0.35714285714285715, 'X[27] <= 0.5\\nentropy = 0.624\\nsamples = 520\\nvalue = [81, 439]'),\n",
       " Text(0.07692307692307693, 0.21428571428571427, 'entropy = 0.0\\nsamples = 439\\nvalue = [0, 439]'),\n",
       " Text(0.23076923076923078, 0.21428571428571427, 'entropy = 0.0\\nsamples = 81\\nvalue = [81, 0]'),\n",
       " Text(0.3076923076923077, 0.35714285714285715, 'entropy = 0.0\\nsamples = 150\\nvalue = [150, 0]'),\n",
       " Text(0.38461538461538464, 0.5, 'entropy = 0.0\\nsamples = 413\\nvalue = [413, 0]'),\n",
       " Text(0.7692307692307693, 0.7857142857142857, 'X[79] <= 0.5\\nentropy = 0.212\\nsamples = 2829\\nvalue = [2734, 95]'),\n",
       " Text(0.6923076923076923, 0.6428571428571429, 'X[49] <= 0.5\\nentropy = 0.113\\nsamples = 2776\\nvalue = [2734, 42]'),\n",
       " Text(0.5384615384615384, 0.5, 'X[5] <= 0.5\\nentropy = 0.023\\nsamples = 2729\\nvalue = [2723, 6]'),\n",
       " Text(0.46153846153846156, 0.35714285714285715, 'X[28] <= 0.5\\nentropy = 0.012\\nsamples = 2726\\nvalue = [2723, 3]'),\n",
       " Text(0.38461538461538464, 0.21428571428571427, 'entropy = 0.0\\nsamples = 2568\\nvalue = [2568, 0]'),\n",
       " Text(0.5384615384615384, 0.21428571428571427, 'X[17] <= 0.5\\nentropy = 0.136\\nsamples = 158\\nvalue = [155, 3]'),\n",
       " Text(0.46153846153846156, 0.07142857142857142, 'entropy = 0.0\\nsamples = 155\\nvalue = [155, 0]'),\n",
       " Text(0.6153846153846154, 0.07142857142857142, 'entropy = 0.0\\nsamples = 3\\nvalue = [0, 3]'),\n",
       " Text(0.6153846153846154, 0.35714285714285715, 'entropy = 0.0\\nsamples = 3\\nvalue = [0, 3]'),\n",
       " Text(0.8461538461538461, 0.5, 'X[53] <= 0.5\\nentropy = 0.785\\nsamples = 47\\nvalue = [11, 36]'),\n",
       " Text(0.7692307692307693, 0.35714285714285715, 'entropy = 0.0\\nsamples = 36\\nvalue = [0, 36]'),\n",
       " Text(0.9230769230769231, 0.35714285714285715, 'entropy = 0.0\\nsamples = 11\\nvalue = [11, 0]'),\n",
       " Text(0.8461538461538461, 0.6428571428571429, 'entropy = 0.0\\nsamples = 53\\nvalue = [0, 53]')]"
      ]
     },
     "execution_count": 44,
     "metadata": {},
     "output_type": "execute_result"
    },
    {
     "data": {
      "image/png": "[encoded data removed]",
      "text/plain": [
       "<Figure size 640x480 with 1 Axes>"
      ]
     },
     "metadata": {},
     "output_type": "display_data"
    }
   ],
   "source": [
    "tree.plot_tree(ml_dt)"
   ]
  },
  {
   "cell_type": "code",
   "execution_count": null,
   "metadata": {},
   "outputs": [
    {
     "name": "stdout",
     "output_type": "stream",
     "text": [
      "odor\n",
      "\t s:p\n",
      "\t m:p\n",
      "\t p:p\n",
      "\t a:e\n",
      "\t f:p\n",
      "\t c:p\n",
      "\t y:p\n",
      "\t l:e\n",
      "\t n:stalk-root\n",
      "\t\t e:e\n",
      "\t\t c:p\n",
      "\t\t b:gill-attachment\n",
      "\t\t\t a:e\n",
      "\t\t\t f:gill-color\n",
      "\t\t\t\t p:e\n",
      "\t\t\t\t e:e\n",
      "\t\t\t\t h:e\n",
      "\t\t\t\t r:p\n",
      "\t\t\t\t w:habitat\n",
      "\t\t\t\t\t m:p\n",
      "\t\t\t\t\t p:e\n",
      "\t\t\t\t\t d:stalk-surface-above-ring\n",
      "\t\t\t\t\t\t s:e\n",
      "\t\t\t\t\t\t y:e\n",
      "\t\t\t\t\t\t k:p\n",
      "\t\t\t\t\t w:e\n",
      "\t\t\t\t\t l:cap-color\n",
      "\t\t\t\t\t\t c:e\n",
      "\t\t\t\t\t\t w:p\n",
      "\t\t\t\t\t\t n:e\n",
      "\t\t\t\t\t g:bruises\n",
      "\t\t\t\t\t\t t:p\n",
      "\t\t\t\t\t\t f:e\n",
      "\t\t\t\t u:e\n",
      "\t\t\t\t n:e\n",
      "\t\t\t\t g:gill-spacing\n",
      "\t\t\t\t\t c:p\n",
      "\t\t\t\t\t w:e\n"
     ]
    }
   ],
   "source": [
    "def display_tree(dt,d):\n",
    "    if dt == str(dt):\n",
    "        print(dt)\n",
    "        return\n",
    "    print(dt.column)\n",
    "    for k in dt.children.keys():\n",
    "        print(\"\\t\"*(d+1),k,end=\":\")\n",
    "        display_tree(dt.children[k],d+1)\n",
    "\n",
    "display_tree(dt,0)"
   ]
  }
 ],
 "metadata": {
  "kernelspec": {
   "display_name": "Python 3",
   "language": "python",
   "name": "python3"
  },
  "language_info": {
   "codemirror_mode": {
    "name": "ipython",
    "version": 3
   },
   "file_extension": ".py",
   "mimetype": "text/x-python",
   "name": "python",
   "nbconvert_exporter": "python",
   "pygments_lexer": "ipython3",
   "version": "3.10.5"
  },
  "orig_nbformat": 4,
  "vscode": {
   "interpreter": {
    "hash": "190eb7e19ff4ba22c814aa1b16864c459589840b2e35d64e9933319c35346941"
   }
  }
 },
 "nbformat": 4,
 "nbformat_minor": 2
}
