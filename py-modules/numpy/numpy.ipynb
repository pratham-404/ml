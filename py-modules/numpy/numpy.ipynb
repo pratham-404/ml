{
 "cells": [
  {
   "attachments": {},
   "cell_type": "markdown",
   "metadata": {},
   "source": [
    "### Numpy"
   ]
  },
  {
   "cell_type": "code",
   "execution_count": 23,
   "metadata": {},
   "outputs": [
    {
     "name": "stdout",
     "output_type": "stream",
     "text": [
      "28000\n",
      "4000\n"
     ]
    }
   ],
   "source": [
    "import numpy as np \n",
    "import sys\n",
    "import time\n",
    "\n",
    "# consumes less memory\n",
    "l1 = range(1000)\n",
    "print(sys.getsizeof(5)*len(l1))\n",
    "\n",
    "a1 = np.arange(1000)\n",
    "print(a1.size*a1.itemsize)\n"
   ]
  },
  {
   "cell_type": "code",
   "execution_count": 24,
   "metadata": {},
   "outputs": [
    {
     "name": "stdout",
     "output_type": "stream",
     "text": [
      "List Execution Time: 137.00366020202637\n",
      "Numpy Array Execution Time: 13.483762741088867\n"
     ]
    }
   ],
   "source": [
    "SIZE = 1000000\n",
    "\n",
    "l1 = range(SIZE)\n",
    "l2 = range(SIZE)\n",
    "\n",
    "start = time.time()\n",
    "result = [(x+y) for x,y in zip(l1,l2)]\n",
    "print(\"List Execution Time:\",(time.time()-start)*1000)\n",
    "\n",
    "a1 = np.arange(SIZE)\n",
    "a2 = np.arange(SIZE)\n",
    "\n",
    "start = time.time()\n",
    "result = a1 + a2 # convinient to use\n",
    "# faster execution time\n",
    "print(\"Numpy Array Execution Time:\",(time.time()-start)*1000)"
   ]
  },
  {
   "cell_type": "code",
   "execution_count": 63,
   "metadata": {},
   "outputs": [
    {
     "name": "stdout",
     "output_type": "stream",
     "text": [
      "[0 1 2 3 4]\n",
      "[0 1 2 3 4]\n",
      "[0 1 2 3 4]\n",
      "[10  1  2  3  4]\n"
     ]
    }
   ],
   "source": [
    "a = np.arange(5)\n",
    "\n",
    "# b = a # when copying a numpy array use .copy() else it will also change original values \n",
    "b = a.copy()\n",
    "\n",
    "print(a)\n",
    "print(b)\n",
    "\n",
    "b[0] = 10\n",
    "\n",
    "print(a) \n",
    "print(b)"
   ]
  },
  {
   "cell_type": "code",
   "execution_count": null,
   "metadata": {},
   "outputs": [],
   "source": []
  },
  {
   "attachments": {},
   "cell_type": "markdown",
   "metadata": {},
   "source": [
    "#### Numpy Basic Operations"
   ]
  },
  {
   "cell_type": "code",
   "execution_count": 25,
   "metadata": {},
   "outputs": [
    {
     "name": "stdout",
     "output_type": "stream",
     "text": [
      "a[2]:  [4 3]\n",
      "a[2][0]:  4\n",
      "Dimension: 2\n",
      "Itemsize: 4\n",
      "Size: 6\n",
      "Shape: (3, 2)\n"
     ]
    }
   ],
   "source": [
    "# a = np.array([9,6,3,5,4,3]) # 1D array\n",
    "\n",
    "a = np.array([[9,6], [3,5], [4,3]]) # 2D array \n",
    "\n",
    "print(\"a[2]: \", a[2]) \n",
    "print(\"a[2][0]: \", a[2][0]) \n",
    "print(\"Dimension:\", np.ndim(a)) # dimension of array\n",
    "print(\"Itemsize:\", a.itemsize) # size of each element in array\n",
    "print(\"Size:\", a.size) # no. of elements in array (across all the dimensions)\n",
    "print(\"Shape:\", a.shape) # (height, width)\n"
   ]
  },
  {
   "cell_type": "code",
   "execution_count": 26,
   "metadata": {},
   "outputs": [
    {
     "name": "stdout",
     "output_type": "stream",
     "text": [
      "[[0. 0. 0. 0. 0. 0.]\n",
      " [0. 0. 0. 0. 0. 0.]\n",
      " [0. 0. 0. 0. 0. 0.]]\n",
      "dtype: float64\n"
     ]
    }
   ],
   "source": [
    "a = np.zeros((3,6)) # array of given dimension containing zeroes of float64 type\n",
    "# a = np.ones((4,3)) # similary ones are initialized\n",
    "\n",
    "print(a)\n",
    "print(\"dtype:\",a.dtype) # gives datatype of items in array"
   ]
  },
  {
   "cell_type": "code",
   "execution_count": 27,
   "metadata": {},
   "outputs": [
    {
     "data": {
      "text/plain": [
       "array([1, 3])"
      ]
     },
     "execution_count": 27,
     "metadata": {},
     "output_type": "execute_result"
    }
   ],
   "source": [
    "# np.arange(5) # similar to range()\n",
    "np.arange(1,5,2) # (start, end, commen difference)"
   ]
  },
  {
   "cell_type": "code",
   "execution_count": 28,
   "metadata": {},
   "outputs": [
    {
     "data": {
      "text/plain": [
       "array([1.        , 1.44444444, 1.88888889, 2.33333333, 2.77777778,\n",
       "       3.22222222, 3.66666667, 4.11111111, 4.55555556, 5.        ])"
      ]
     },
     "execution_count": 28,
     "metadata": {},
     "output_type": "execute_result"
    }
   ],
   "source": [
    "# gives an array that equally distributes to start and end in given no. of subparts\n",
    "np.linspace(1,5,10) # (start, end, no. of subparts)"
   ]
  },
  {
   "cell_type": "code",
   "execution_count": 29,
   "metadata": {},
   "outputs": [
    {
     "name": "stdout",
     "output_type": "stream",
     "text": [
      "[[1]\n",
      " [2]\n",
      " [3]\n",
      " [4]\n",
      " [5]\n",
      " [6]]\n"
     ]
    }
   ],
   "source": [
    "a = np.array([[1,2],[3,4],[5,6]])\n",
    "\n",
    "# print(a)\n",
    "# print(a.shape)\n",
    "\n",
    "# reshaping array height*width should be equal\n",
    "# print(a.reshape(2,3))\n",
    "# print(a.reshape(1,6))\n",
    "print(a.reshape(6,1))\n",
    "\n"
   ]
  },
  {
   "cell_type": "code",
   "execution_count": 30,
   "metadata": {},
   "outputs": [
    {
     "name": "stdout",
     "output_type": "stream",
     "text": [
      "[[1 2]\n",
      " [3 4]\n",
      " [5 6]]\n",
      "[1 2 3 4 5 6]\n"
     ]
    }
   ],
   "source": [
    "a = np.array([[1,2],[3,4],[5,6]])\n",
    "\n",
    "print(a)\n",
    "print(a.ravel()) # returns flatten array  "
   ]
  },
  {
   "cell_type": "code",
   "execution_count": 31,
   "metadata": {},
   "outputs": [
    {
     "name": "stdout",
     "output_type": "stream",
     "text": [
      "Min: 1\n",
      "Max: 6\n",
      "Sum: 21\n",
      "Sum, axis=0: [ 9 12]\n",
      "Sum, axis=1: [ 3  7 11]\n",
      "Sum: 21\n",
      "Mean: 3.5\n",
      "Standard Deviation: 1.707825127659933\n",
      "Square Root of Array:\n",
      " [[1.         1.41421356]\n",
      " [1.73205081 2.        ]\n",
      " [2.23606798 2.44948974]]\n"
     ]
    }
   ],
   "source": [
    "a = np.array([[1,2],[3,4],[5,6]])\n",
    "\n",
    "print(\"Min:\", a.min())\n",
    "print(\"Max:\", a.max())\n",
    "print(\"Sum:\", a.sum())\n",
    "print(\"Sum, axis=0:\", a.sum(axis=0)) # along y-axis\n",
    "print(\"Sum, axis=1:\", a.sum(axis=1)) # along x-axis\n",
    "print(\"Sum:\", a.sum())\n",
    "print(\"Mean:\", a.mean())\n",
    "print(\"Standard Deviation:\", a.std())\n",
    "print(\"Square Root of Array:\\n\", np.sqrt(a))"
   ]
  },
  {
   "cell_type": "code",
   "execution_count": 32,
   "metadata": {},
   "outputs": [
    {
     "name": "stdout",
     "output_type": "stream",
     "text": [
      "[[23 20]\n",
      " [55 48]]\n"
     ]
    }
   ],
   "source": [
    "a = np.array([[1,2],[3,4]])\n",
    "b = np.array([[9,8],[7,6]])\n",
    "\n",
    "# print(a)\n",
    "# print(b)\n",
    "# print(a+b)\n",
    "# print(a-b)\n",
    "# print(a*b)\n",
    "# print(a/b)\n",
    "# print(a//b)\n",
    "# print(a%b)\n",
    "print(a.dot(b)) # dot product (rowXcolumn)"
   ]
  },
  {
   "cell_type": "code",
   "execution_count": 33,
   "metadata": {},
   "outputs": [
    {
     "name": "stdout",
     "output_type": "stream",
     "text": [
      "[1 2]\n",
      "4\n"
     ]
    }
   ],
   "source": [
    "arr = np.array([1,2,3,5,4,6])\n",
    "\n",
    "# print(arr[0])\n",
    "print(arr[0:2]) # slicing\n",
    "print(arr[-2]) # negative indexing"
   ]
  },
  {
   "cell_type": "code",
   "execution_count": 34,
   "metadata": {},
   "outputs": [
    {
     "name": "stdout",
     "output_type": "stream",
     "text": [
      "0th row and 2nd column: 5\n",
      "0th & 1st row, 2nd column: [5 1]\n",
      "0th row, 1st & 2nd column: [3 5]\n",
      "1th & 2nd column:\n",
      " [[1 3]\n",
      " [4 8]\n",
      " [6 2]]\n",
      "2nd row: [6 2 7]\n"
     ]
    }
   ],
   "source": [
    "a = np.array([[1,3,5],\n",
    "              [4,8,1],\n",
    "              [6,2,7]])\n",
    "\n",
    "# (rwo, column)\n",
    "print(\"0th row and 2nd column:\", a[0,2]) # a[0][2]\n",
    "print(\"0th & 1st row, 2nd column:\", a[0:2,2]) # IMP, because a[0:2][2] => ERROR\n",
    "print(\"0th row, 1st & 2nd column:\", a[0][1:])\n",
    "print(\"1th & 2nd column:\\n\",a[:,0:2])\n",
    "print(\"2nd row:\", a[-1])"
   ]
  },
  {
   "cell_type": "code",
   "execution_count": 39,
   "metadata": {},
   "outputs": [
    {
     "name": "stdout",
     "output_type": "stream",
     "text": [
      "[1 3 5]\n",
      "[4 8 1]\n",
      "[6 2 7]\n",
      "1\n",
      "3\n",
      "5\n",
      "4\n",
      "8\n",
      "1\n",
      "6\n",
      "2\n",
      "7\n"
     ]
    }
   ],
   "source": [
    "a = np.array([[1,3,5],\n",
    "              [4,8,1],\n",
    "              [6,2,7]])\n",
    "\n",
    "# Iterating through the array\n",
    "for row in a:\n",
    "    print(row)\n",
    "\n",
    "for cell in a.flat: # row X column\n",
    "    print(cell)"
   ]
  },
  {
   "cell_type": "code",
   "execution_count": 43,
   "metadata": {},
   "outputs": [
    {
     "name": "stdout",
     "output_type": "stream",
     "text": [
      "a: [[0 1]\n",
      " [2 3]\n",
      " [4 5]]\n",
      "b: [[ 6  7]\n",
      " [ 8  9]\n",
      " [10 11]]\n",
      "Vertical Stacking: \n",
      "[[ 0  1]\n",
      " [ 2  3]\n",
      " [ 4  5]\n",
      " [ 6  7]\n",
      " [ 8  9]\n",
      " [10 11]]\n",
      "Horizontal Stacking: \n",
      "[[ 0  1  6  7]\n",
      " [ 2  3  8  9]\n",
      " [ 4  5 10 11]]\n"
     ]
    }
   ],
   "source": [
    "# Stacking in Numpy\n",
    "a = np.arange(0,6).reshape(3,2)\n",
    "b = np.arange(6,12).reshape(3,2)\n",
    "\n",
    "print(\"a:\", a)\n",
    "print(\"b:\", b)\n",
    "\n",
    "print(\"Vertical Stacking: \")\n",
    "print(np.vstack((a,b)))\n",
    "\n",
    "print(\"Horizontal Stacking: \")\n",
    "print(np.hstack((a,b)))"
   ]
  },
  {
   "cell_type": "code",
   "execution_count": 56,
   "metadata": {},
   "outputs": [
    {
     "name": "stdout",
     "output_type": "stream",
     "text": [
      "[[ 0  1  2  3  4  5  6  7  8  9 10 11 12 13 14]\n",
      " [15 16 17 18 19 20 21 22 23 24 25 26 27 28 29]]\n",
      "[[ 0  1  2  3  4  5  6  7  8  9 10 11 12 13 14]]\n",
      "[[ 0  1  2  3  4  5  6  7  8  9 10 11 12 13 14]]\n",
      "[[ 0  1  2]\n",
      " [15 16 17]]\n",
      "[[ 3  4  5]\n",
      " [18 19 20]]\n"
     ]
    }
   ],
   "source": [
    "# Splitting in Numpy\n",
    "a = np.arange(30).reshape(2,15)\n",
    "print(a)\n",
    "\n",
    "# vertical split\n",
    "result = np.vsplit(a,2)\n",
    "print(result[0])\n",
    "print(result[1])\n",
    "\n",
    "# horizontal spilt\n",
    "result = np.hsplit(a,5)\n",
    "print(result[0])\n",
    "print(result[1])"
   ]
  },
  {
   "cell_type": "code",
   "execution_count": 61,
   "metadata": {},
   "outputs": [
    {
     "name": "stdout",
     "output_type": "stream",
     "text": [
      "[[ 0  1  2  3]\n",
      " [ 4  5  6  7]\n",
      " [ 8  9 10 11]]\n",
      "[[False False False False]\n",
      " [False  True  True  True]\n",
      " [ True  True  True  True]]\n",
      "[[ 0  1  2  3]\n",
      " [ 4 -2 -2 -2]\n",
      " [-2 -2 -2 -2]]\n"
     ]
    }
   ],
   "source": [
    "a = np.arange(12).reshape(3,4)\n",
    "print(a)\n",
    "\n",
    "# boolean array that stores result for each cell in array\n",
    "b = a > 4\n",
    "print(b)\n",
    "\n",
    "# print(a[b])\n",
    "a[b] = -2\n",
    "\n",
    "print(a)"
   ]
  },
  {
   "cell_type": "code",
   "execution_count": null,
   "metadata": {},
   "outputs": [],
   "source": []
  }
 ],
 "metadata": {
  "kernelspec": {
   "display_name": "venv",
   "language": "python",
   "name": "python3"
  },
  "language_info": {
   "codemirror_mode": {
    "name": "ipython",
    "version": 3
   },
   "file_extension": ".py",
   "mimetype": "text/x-python",
   "name": "python",
   "nbconvert_exporter": "python",
   "pygments_lexer": "ipython3",
   "version": "3.10.5 (tags/v3.10.5:f377153, Jun  6 2022, 16:14:13) [MSC v.1929 64 bit (AMD64)]"
  },
  "orig_nbformat": 4,
  "vscode": {
   "interpreter": {
    "hash": "e67bdea3ab344799b3db3926bb94eb3c6bb09edbe3b73faf58cb7bae61dfb27d"
   }
  }
 },
 "nbformat": 4,
 "nbformat_minor": 2
}
