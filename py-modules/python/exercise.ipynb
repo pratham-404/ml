{
 "cells": [
  {
   "attachments": {},
   "cell_type": "markdown",
   "metadata": {},
   "source": [
    "### Exercise: Python Variables\n",
    "1. Create a variable called break and assign it a value 5. See what happens and find out the reason behind the behavior that you see.\n",
    "2. Create two variables. One to store your birth year and another one to store current year. Now calculate your age using these two variables\n",
    "3. Store your first, middle and last name in three different variables and then print your full name using these variables\n",
    "4. Answer which of these are invalid variable names: \n",
    "   _nation\n",
    "   1record\n",
    "   record1\n",
    "   record_one\n",
    "   record-one\n",
    "   record^one\n",
    "   continue\n",
    "   \n",
    "   [Solution](https://github.com/codebasics/py/blob/master/Basics/Exercise/2_variables/2_variables_exercise.ipynb)"
   ]
  },
  {
   "cell_type": "code",
   "execution_count": 1,
   "metadata": {},
   "outputs": [],
   "source": [
    "# break = 5 # Error because break is an inbuilt python keyword"
   ]
  },
  {
   "cell_type": "code",
   "execution_count": 2,
   "metadata": {},
   "outputs": [
    {
     "name": "stdout",
     "output_type": "stream",
     "text": [
      "Age: 20\n"
     ]
    }
   ],
   "source": [
    "birth_year = 2002\n",
    "current_year = 2022\n",
    "\n",
    "age = current_year - birth_year\n",
    "print(\"Age:\", age)"
   ]
  },
  {
   "cell_type": "code",
   "execution_count": 3,
   "metadata": {},
   "outputs": [
    {
     "name": "stdout",
     "output_type": "stream",
     "text": [
      "Fullname: Pratham Rajendra Loya\n"
     ]
    }
   ],
   "source": [
    "fname = \"Pratham\"\n",
    "mname = \"Rajendra\"\n",
    "lname = \"Loya\"\n",
    "\n",
    "print(\"Fullname:\", fname, mname, lname)"
   ]
  },
  {
   "cell_type": "code",
   "execution_count": 4,
   "metadata": {},
   "outputs": [],
   "source": [
    "# _nation => Valid\n",
    "# 1record => Invalid\n",
    "# record1 => Valid\n",
    "# record_one => Valid\n",
    "# record-one => Invalid\n",
    "# record^one => Invalid\n",
    "# continue => Invalid"
   ]
  },
  {
   "attachments": {},
   "cell_type": "markdown",
   "metadata": {},
   "source": [
    "### Exercise: Numbers in python\n",
    "1. You have a  field that is 92 meter long and 48.8 meter wide. Find footballout total\n",
    "area using python and print it.\n",
    "2. You bought 9 packets of potato chips from a store. Each packet costs 1.49 dollar\n",
    "and you gave shopkeeper 20 dollar. Find out using python, how many dollars is the shopkeeper going to give you back?\n",
    "3. You want to replace tiles in your bathroom which is exactly square and 5.5 feet\n",
    "is its length. If tiles cost 500 rs per square feet, how much will be the total\n",
    "cost to replace all tiles. Calculate and print the cost using python\n",
    "(Hint: Use power operator ** to find area of a square)\n",
    "4. Print binary representation of number 17\n",
    "\n",
    "[Solution](https://github.com/codebasics/py/blob/master/Basics/Exercise/3_numbers/3_numbers_exercise.py)"
   ]
  },
  {
   "cell_type": "code",
   "execution_count": 5,
   "metadata": {},
   "outputs": [
    {
     "name": "stdout",
     "output_type": "stream",
     "text": [
      "Total area of football field: 4489.6\n"
     ]
    }
   ],
   "source": [
    "length = 92\n",
    "breadth = 48.8\n",
    "\n",
    "area = length * breadth\n",
    "\n",
    "print(\"Total area of football field:\", round(area,1))"
   ]
  },
  {
   "cell_type": "code",
   "execution_count": 6,
   "metadata": {},
   "outputs": [
    {
     "name": "stdout",
     "output_type": "stream",
     "text": [
      "Shopkeeper returns 6.59 $\n"
     ]
    }
   ],
   "source": [
    "no_of_packets = 9\n",
    "packet_cost = 1.49\n",
    "\n",
    "cash_given = 20\n",
    "\n",
    "cash_remaining = cash_given - no_of_packets*packet_cost\n",
    "print(f\"Shopkeeper returns {cash_remaining} $\")"
   ]
  },
  {
   "cell_type": "code",
   "execution_count": 7,
   "metadata": {},
   "outputs": [
    {
     "name": "stdout",
     "output_type": "stream",
     "text": [
      "Total cost for all tile replacement: 15125.0\n"
     ]
    }
   ],
   "source": [
    "length_of_tile = 5.5\n",
    "area_of_tiles = length_of_tile**2\n",
    "cost_per_sq_feet = 500\n",
    "total_cost = area_of_tiles*cost_per_sq_feet\n",
    "\n",
    "print(\"Total cost for all tile replacement:\", total_cost)"
   ]
  },
  {
   "cell_type": "code",
   "execution_count": 8,
   "metadata": {},
   "outputs": [
    {
     "name": "stdout",
     "output_type": "stream",
     "text": [
      "Binary representation of number is 10001\n"
     ]
    }
   ],
   "source": [
    "num = 17\n",
    "\n",
    "# ans = \"\"\n",
    "# while num > 0:\n",
    "#     ans+=str(num%2)\n",
    "#     num = int(num/2)\n",
    "\n",
    "print(\"Binary representation of number is\",format(num,'b'))"
   ]
  },
  {
   "attachments": {},
   "cell_type": "markdown",
   "metadata": {},
   "source": [
    "### Exercise: String in Python\n",
    "\n",
    "1. Create 3 variables to store street, city and country, now create address variable to\n",
    "store entire address. Use two ways of creating this variable, one using + operator and the other using f-string.\n",
    "Now Print the address in such a way that the street, city and country prints in a separate line\n",
    "2. Create a variable to store the string \"Earth revolves around the sun\"\n",
    "    1. Print \"revolves\" using slice operator\n",
    "    2. Print \"sun\" using negative index\n",
    "3. Create two variables to store how many fruits and vegetables you eat in a day.\n",
    "Now Print \"I eat x veggies and y fruits daily\" where x and y presents vegetables and fruits that you eat everyday. Use python f string for this.\n",
    "4. I have a string variable called s='maine 200 banana khaye'. This of course is a\n",
    "wrong statement, the correct statement is 'maine 10 samosa khaye'.\n",
    "Replace incorrect words in original strong with new ones and print the new string.\n",
    "Also try to do this in one line.\n",
    "\n",
    "[Solution](https://github.com/codebasics/py/blob/master/Basics/Exercise/4_strings/4_string_exercise_answer.py)"
   ]
  },
  {
   "cell_type": "code",
   "execution_count": 9,
   "metadata": {},
   "outputs": [
    {
     "name": "stdout",
     "output_type": "stream",
     "text": [
      "Kings Street\n",
      "London\n",
      "UK\n"
     ]
    }
   ],
   "source": [
    "street = \"Kings Street\"\n",
    "city = \"London\"\n",
    "country = \"UK\"\n",
    "\n",
    "# address = street + \"\\n\" + city + \"\\n\" + country\n",
    "address = f'{street}\\n{city}\\n{country}'\n",
    "\n",
    "print(address)"
   ]
  },
  {
   "cell_type": "code",
   "execution_count": 10,
   "metadata": {},
   "outputs": [
    {
     "name": "stdout",
     "output_type": "stream",
     "text": [
      "revolves\n",
      "sun\n"
     ]
    }
   ],
   "source": [
    "str = \"Earth revolves around the sun\"\n",
    "\n",
    "print(str[6:14])\n",
    "print(str[-3:])"
   ]
  },
  {
   "cell_type": "code",
   "execution_count": 11,
   "metadata": {},
   "outputs": [
    {
     "name": "stdout",
     "output_type": "stream",
     "text": [
      "I eat 10 veggies and 5 fruits daily\n"
     ]
    }
   ],
   "source": [
    "x = 10\n",
    "y = 5\n",
    "\n",
    "print(f\"I eat {x} veggies and {y} fruits daily\")"
   ]
  },
  {
   "cell_type": "code",
   "execution_count": 12,
   "metadata": {},
   "outputs": [
    {
     "name": "stdout",
     "output_type": "stream",
     "text": [
      "maine 10 samosa khaye\n"
     ]
    }
   ],
   "source": [
    "s = \"maine 200 banana khaye\"\n",
    "\n",
    "# c = s[:6] + \"10 samosa\" + s[-6:]\n",
    "# print(c)\n",
    "\n",
    "s = s.replace(\"banana\", \"samosa\").replace(\"200\", \"10\")\n",
    "print(s)"
   ]
  },
  {
   "attachments": {},
   "cell_type": "markdown",
   "metadata": {},
   "source": [
    "### Exercise: Python Lists\n",
    "1. Let us say your expense for every month are listed below,\n",
    "\t1. January -  2200\n",
    " \t2. February - 2350\n",
    "    3. March - 2600\n",
    "    4. April - 2130\n",
    "    5. May - 2190\n",
    "\n",
    "Create a list to store these monthly expenses and using that find out,\n",
    "\n",
    "    1. In Feb, how many dollars you spent extra compare to January?\n",
    "    2. Find out your total expense in first quarter (first three months) of the year.\n",
    "    3. Find out if you spent exactly 2000 dollars in any month\n",
    "    4. June month just finished and your expense is 1980 dollar. Add this item to our monthly expense list\n",
    "    5. You returned an item that you bought in a month of April and\n",
    "    got a refund of 200$. Make a correction to your monthly expense list\n",
    "    based on this\n",
    "\n",
    "2. You have a list of your favourite marvel super heros.\n",
    "```\n",
    "heros=['spider man','thor','hulk','iron man','captain america']\n",
    "```\n",
    "\n",
    "Using this find out,\n",
    "\n",
    "    1. Length of the list\n",
    "    2. Add 'black panther' at the end of this list\n",
    "    3. You realize that you need to add 'black panther' after 'hulk',\n",
    "       so remove it from the list first and then add it after 'hulk'\n",
    "    4. Now you don't like thor and hulk because they get angry easily :)\n",
    "       So you want to remove thor and hulk from list and replace them with doctor strange (because he is cool).\n",
    "       Do that with one line of code.\n",
    "    5. Sort the heros list in alphabetical order (Hint. Use dir() functions to list down all functions available in list)\n",
    "\n",
    "\n",
    "\n",
    "[Solution](https://github.com/codebasics/py/blob/master/Basics/Exercise/5_lists/5_lists_exercise.py)"
   ]
  },
  {
   "cell_type": "code",
   "execution_count": 13,
   "metadata": {},
   "outputs": [
    {
     "name": "stdout",
     "output_type": "stream",
     "text": [
      "[2200, 2350, 2600, 2130, 2190]\n",
      "150\n",
      "7150\n",
      "False\n",
      "[2200, 2350, 2600, 2130, 2190, 1980]\n",
      "[2200, 2350, 2600, 1930, 2190, 1980]\n"
     ]
    }
   ],
   "source": [
    "expenses = [2200, 2350, 2600, 2130, 2190]\n",
    "print(expenses)\n",
    "\n",
    "print(expenses[1]-expenses[0])\n",
    "\n",
    "# print(expenses[0] + expenses[1]+ expenses[2])\n",
    "print(sum(expenses[0:3]))\n",
    "\n",
    "print(2000 in expenses)\n",
    "\n",
    "expenses.append(1980)\n",
    "print(expenses)\n",
    "\n",
    "expenses[3]-=200\n",
    "print(expenses)\n"
   ]
  },
  {
   "cell_type": "code",
   "execution_count": 14,
   "metadata": {},
   "outputs": [
    {
     "name": "stdout",
     "output_type": "stream",
     "text": [
      "['spider man', 'thor', 'hulk', 'iron man', 'captain america']\n",
      "5\n",
      "['spider man', 'thor', 'hulk', 'iron man', 'captain america', 'black panther']\n",
      "['spider man', 'thor', 'hulk', 'black panther', 'iron man', 'captain america']\n",
      "['spider man', 'doctor strange', 'black panther', 'iron man', 'captain america']\n",
      "['black panther', 'captain america', 'doctor strange', 'iron man', 'spider man']\n"
     ]
    }
   ],
   "source": [
    "heros=['spider man','thor','hulk','iron man','captain america']\n",
    "print(heros)\n",
    "\n",
    "print(len(heros))\n",
    "\n",
    "heros.append('black panther')\n",
    "print(heros)\n",
    "\n",
    "heros.remove('black panther')\n",
    "heros.insert(3, 'black panther')\n",
    "print(heros)\n",
    "\n",
    "heros[1:3] = ['doctor strange']\n",
    "print(heros)\n",
    "\n",
    "heros.sort()\n",
    "print(heros)"
   ]
  },
  {
   "attachments": {},
   "cell_type": "markdown",
   "metadata": {},
   "source": [
    "### Exercise: Python If Condition\n",
    "1. Using following list of cities per country,\n",
    "    ```\n",
    "    india = [\"mumbai\", \"banglore\", \"chennai\", \"delhi\"]\n",
    "    pakistan = [\"lahore\",\"karachi\",\"islamabad\"]\n",
    "    bangladesh = [\"dhaka\", \"khulna\", \"rangpur\"]\n",
    "    ```\n",
    "    1. Write a program that asks user to enter a city name and it should tell which country the city belongs to\n",
    "    2. Write a program that asks user to enter two cities and it tells you if they both are in same country or not. For example if I enter mumbai and chennai, it will print \"Both cities are in India\" but if I enter mumbai and dhaka it should print \"They don't belong to same country\"\n",
    "2. Write a python program that can tell you if your sugar is normal or not. Normal fasting level sugar range is 80 to 100.\n",
    "    1. Ask user to enter his fasting sugar level\n",
    "    2. If it is below 80 to 100 range then print that sugar is low\n",
    "    3. If it is above 100 then print that it is high otherwise print that it is normal\n",
    "\n",
    "[Solution - Exercise 1.i](https://github.com/codebasics/py/blob/master/Basics/Exercise/8_if/8_exercise1_1.py)\n",
    "\n",
    "[Solution - Exercise 1.ii](https://github.com/codebasics/py/blob/master/Basics/Exercise/8_if/8_exercise1_2.py)\n",
    "\n",
    "[Solution - Exercise 2](https://github.com/codebasics/py/blob/master/Basics/Exercise/8_if/8_exercise2.py)"
   ]
  },
  {
   "cell_type": "code",
   "execution_count": 15,
   "metadata": {},
   "outputs": [],
   "source": [
    "india = [\"mumbai\", \"banglore\", \"chennai\", \"delhi\"]\n",
    "pakistan = [\"lahore\",\"karachi\",\"islamabad\"]\n",
    "bangladesh = [\"dhaka\", \"khulna\", \"rangpur\"]"
   ]
  },
  {
   "cell_type": "code",
   "execution_count": 16,
   "metadata": {},
   "outputs": [
    {
     "name": "stdout",
     "output_type": "stream",
     "text": [
      "City not present in data\n"
     ]
    }
   ],
   "source": [
    "# c = input(\"Enter a City name: \")\n",
    "\n",
    "# c = \"mumbai\"\n",
    "c = \"hyderabad\"\n",
    "\n",
    "if(c in india): \n",
    "    print(f\"{c} is in India.\")\n",
    "elif(c in pakistan): \n",
    "    print(f\"{c} is in Pakistan.\")\n",
    "elif(c in bangladesh): \n",
    "    print(f\"{c} is in Bangladesh.\")\n",
    "else: \n",
    "    print(\"City not present in data\")"
   ]
  },
  {
   "cell_type": "code",
   "execution_count": 17,
   "metadata": {},
   "outputs": [
    {
     "name": "stdout",
     "output_type": "stream",
     "text": [
      "Both cities not belong to same country\n"
     ]
    }
   ],
   "source": [
    "# c1 = input(\"Enter a City-1 name: \")\n",
    "# c2 = input(\"Enter a City-2 name: \")\n",
    "\n",
    "c1 = \"mumbai\"\n",
    "\n",
    "# c2 = \"banglore\"\n",
    "c2 = \"islamabad\"\n",
    "\n",
    "if(c1 in india and c2 in india): \n",
    "    print(\"Both cities are in India.\")\n",
    "elif(c1 in pakistan and c2 in pakistan): \n",
    "    print(\"Both cities are in Pakistan.\")\n",
    "elif(c1 in bangladesh and c2 in bangladesh): \n",
    "    print(\"Both cities are in Bangladesh.\")\n",
    "else: \n",
    "    print(\"Both cities not belong to same country\")"
   ]
  },
  {
   "cell_type": "code",
   "execution_count": 18,
   "metadata": {},
   "outputs": [
    {
     "name": "stdout",
     "output_type": "stream",
     "text": [
      "Sugar levels are normal\n"
     ]
    }
   ],
   "source": [
    "# s = input(\"Enter fasting sugar level: \")\n",
    "# s = float(s)\n",
    "\n",
    "# s = 50\n",
    "s = 85\n",
    "# s = 110\n",
    "\n",
    "if s < 80:\n",
    "    print(\"Sugar levels are low\")\n",
    "elif s > 100: \n",
    "    print(\"Sugar levels are high\")\n",
    "else:\n",
    "    print(\"Sugar levels are normal\")"
   ]
  },
  {
   "attachments": {},
   "cell_type": "markdown",
   "metadata": {},
   "source": [
    "### Exercise: Python for loop\n",
    "1. After flipping a coin 10 times you got this result,\n",
    "```\n",
    "result = [\"heads\",\"tails\",\"tails\",\"heads\",\"tails\",\"heads\",\"heads\",\"tails\",\"tails\",\"tails\"]\n",
    "```\n",
    "Using for loop figure out how many times you got heads\n",
    "\n",
    "2. Print square of all numbers between 1 to 10 except even numbers\n",
    "3. Your monthly expense list (from Jan to May) looks like this,\n",
    "```\n",
    "expense_list = [2340, 2500, 2100, 3100, 2980]\n",
    "```\n",
    "Write a program that asks you to enter an expense amount and program\n",
    "should tell you in which month that expense occurred. If expense is not\n",
    "found then it should print that as well.\n",
    "\n",
    "4. Lets say you are running a 5 km race. Write a program that,\n",
    "   1. Upon completing each 1 km asks you \"are you tired?\"\n",
    "   2. If you reply \"yes\" then it should break and print \"you didn't finish the race\"\n",
    "   3. If you reply \"no\" then it should continue and ask \"are you tired\" on every km\n",
    "   4. If you finish all 5 km then it should print congratulations message\n",
    "\n",
    "5. Write a program that prints following shape\n",
    "```\n",
    "*\n",
    "**\n",
    "***\n",
    "****\n",
    "*****\n",
    "```\n",
    "\n",
    "\n",
    "[Solution](https://github.com/codebasics/py/blob/master/Basics/Exercise/9_for/9_for_exercise.py)"
   ]
  },
  {
   "cell_type": "code",
   "execution_count": 19,
   "metadata": {},
   "outputs": [
    {
     "name": "stdout",
     "output_type": "stream",
     "text": [
      "4\n"
     ]
    }
   ],
   "source": [
    "result = [\"heads\",\"tails\",\"tails\",\"heads\",\"tails\",\"heads\",\"heads\",\"tails\",\"tails\",\"tails\"]\n",
    "\n",
    "print(result.count('heads'))"
   ]
  },
  {
   "cell_type": "code",
   "execution_count": 20,
   "metadata": {},
   "outputs": [
    {
     "name": "stdout",
     "output_type": "stream",
     "text": [
      "1\n",
      "9\n",
      "25\n",
      "49\n",
      "81\n"
     ]
    }
   ],
   "source": [
    "for i in range(1,11):\n",
    "    if i%2 == 1:\n",
    "        print(i**2)"
   ]
  },
  {
   "cell_type": "code",
   "execution_count": 21,
   "metadata": {},
   "outputs": [
    {
     "name": "stdout",
     "output_type": "stream",
     "text": [
      "January\n"
     ]
    }
   ],
   "source": [
    "expense_list = [2340, 2500, 2100, 3100, 2980]\n",
    "months = ['January', 'Febuary', \"March\", \"April\", \"May\"]\n",
    "\n",
    "# e = input(\"Input expenses: \")\n",
    "# e = int(e)\n",
    "\n",
    "# e = 2350\n",
    "e = 2340\n",
    "\n",
    "flag = True\n",
    "\n",
    "for i in range(len(expense_list)):\n",
    "    if expense_list[i] == e:\n",
    "        flag = False\n",
    "        print(months[i])\n",
    "        break\n",
    "\n",
    "if flag:\n",
    "    print(\"Not Found\")\n"
   ]
  },
  {
   "cell_type": "code",
   "execution_count": 22,
   "metadata": {},
   "outputs": [
    {
     "name": "stdout",
     "output_type": "stream",
     "text": [
      "Congratulations !\n"
     ]
    }
   ],
   "source": [
    "flag = True\n",
    "\n",
    "for i in range(5):\n",
    "    # s = input(\"are you tired ?\")\n",
    "\n",
    "    # s = \"yes\"\n",
    "    s = \"no\"\n",
    "    \n",
    "    if s == \"yes\":\n",
    "        print(\"you didn't finish the race\")\n",
    "        flag = False\n",
    "        break\n",
    "    \n",
    "if flag:\n",
    "    print(\"Congratulations !\")"
   ]
  },
  {
   "cell_type": "code",
   "execution_count": 23,
   "metadata": {},
   "outputs": [
    {
     "name": "stdout",
     "output_type": "stream",
     "text": [
      "*\n",
      "**\n",
      "***\n",
      "****\n",
      "*****\n"
     ]
    }
   ],
   "source": [
    "for i in range(5):\n",
    "    str = \"\"\n",
    "    for j in range(i+1):\n",
    "        str += \"*\"\n",
    "    print(str)"
   ]
  },
  {
   "attachments": {},
   "cell_type": "markdown",
   "metadata": {},
   "source": [
    "### Exercise: Functions in python\n",
    "1. Write a function called calculate_area that takes base and height as an input and returns and area of a triangle. Equation of an area of a triangle is,\n",
    "```\n",
    "area = (1/2)*base*height\n",
    "```\n",
    "\n",
    "2. Modify above function to take third parameter shape type. It can be either \"triangle\" or \"rectangle\". Based on shape type it will calculate area. Equation of rectangle's area is,\n",
    "```\n",
    "rectangle area=length*width\n",
    "```\n",
    "If no shape is supplied then it should take triangle as a default shape\n",
    "\n",
    "3. Write a function called print_pattern that takes integer number as an argument and prints following pattern if input number is 3,\n",
    "```\n",
    "*\n",
    "**\n",
    "***\n",
    "```\n",
    "if input is 4 then it should print\n",
    "```\n",
    "*\n",
    "**\n",
    "***\n",
    "****\n",
    "```\n",
    "Basically number of lines it prints is equal to that number. (Hint: you need to use two for loops)\n",
    "\n",
    "[Solution](https://github.com/codebasics/py/blob/master/Basics/Exercise/10_functions/10_functions_exercise.py)"
   ]
  },
  {
   "cell_type": "code",
   "execution_count": 24,
   "metadata": {},
   "outputs": [
    {
     "name": "stdout",
     "output_type": "stream",
     "text": [
      "17.5\n"
     ]
    }
   ],
   "source": [
    "def calculate_area(base, height):\n",
    "    return (base*height)/2\n",
    "\n",
    "print(calculate_area(5,7))"
   ]
  },
  {
   "cell_type": "code",
   "execution_count": 25,
   "metadata": {},
   "outputs": [
    {
     "name": "stdout",
     "output_type": "stream",
     "text": [
      "13.5\n",
      "30\n"
     ]
    }
   ],
   "source": [
    "def calculate_area(a, b, shape):\n",
    "    if shape == \"triangle\":\n",
    "        return (a*b)/2\n",
    "    elif shape == \"rectangle\":\n",
    "        return a*b \n",
    "    return 0\n",
    "\n",
    "print(calculate_area(3, 9, \"triangle\"))\n",
    "print(calculate_area(5, 6, \"rectangle\"))"
   ]
  },
  {
   "cell_type": "code",
   "execution_count": 26,
   "metadata": {},
   "outputs": [
    {
     "name": "stdout",
     "output_type": "stream",
     "text": [
      "*\n",
      "**\n",
      "***\n",
      "****\n"
     ]
    }
   ],
   "source": [
    "def print_pattern(n):\n",
    "    for i in range(n):\n",
    "        str = \"\"\n",
    "        for j in range(i+1):\n",
    "            str += \"*\"\n",
    "        print(str)\n",
    "\n",
    "print_pattern(4)"
   ]
  },
  {
   "attachments": {},
   "cell_type": "markdown",
   "metadata": {},
   "source": [
    "### Exercise: Python Dict and Tuples\n",
    "\n",
    "1. We have following information on countries and their population (population is in crores),\n",
    "\n",
    "    |Country|Population|\n",
    "    |-------|----------|\n",
    "    |China|143|\n",
    "    |India|136|\n",
    "    |USA|32|\n",
    "    |Pakistan|21|\n",
    "    1. Using above create a dictionary of countries and its population\n",
    "    2. Write a program that asks user for three type of inputs,\n",
    "        1. print: if user enter print then it should print all countries with their population in this format,\n",
    "            ```\n",
    "            china==>143\n",
    "            india==>136\n",
    "            usa==>32\n",
    "            pakistan==>21\n",
    "            ```\n",
    "        1. add: if user input add then it should further ask for a country name to add. If country already exist in our dataset then it should print that it exist and do nothing. If it doesn't then it asks for population and add that new country/population in our dictionary and print it\n",
    "        2. remove: when user inputs remove it should ask for a country to remove. If country exist in our dictionary then remove it and print new dictionary using format shown above in (a). Else print that country doesn't exist!\n",
    "        3. query: on this again ask user for which country he or she wants to query. When user inputs that country it will print population of that country.\n",
    "\n",
    "[Solution](https://github.com/codebasics/py/blob/master/Basics/Exercise/11_dict_tuples/11_dict_exercise_1_country_population.py)\n",
    "\n",
    "2. You are given following list of stocks and their prices in last 3 days,\n",
    "\n",
    "    |Stock|Prices|\n",
    "    |-------|----------|\n",
    "    |info|[600,630,620]|\n",
    "    |ril|[1430,1490,1567]|\n",
    "    |mtl|[234,180,160]|\n",
    "\n",
    "    1. Write a program that asks user for operation. Value of operations could be,\n",
    "        1. print: When user enters print it should print following,\n",
    "            ```\n",
    "            info ==> [600, 630, 620] ==> avg:  616.67\n",
    "            ril ==> [1430, 1490, 1567] ==> avg:  1495.67\n",
    "            mtl ==> [234, 180, 160] ==> avg:  191.33\n",
    "            ```\n",
    "        2. add: When user enters 'add', it asks for stock ticker and price. If stock already exist in your list (like info, ril etc) then it will append the price to the list. Otherwise it will create new entry in your dictionary. For example entering 'tata' and 560 will add tata ==> [560] to the dictionary of stocks.\n",
    "\n",
    "[Solution](https://github.com/codebasics/py/blob/master/Basics/Exercise/11_dict_tuples/11_dict_exercise_2_stocks.py)\n",
    "\n",
    "3. Write circle_calc() function that takes radius of a circle as an input from user and then it calculates and returns area, circumference and diameter. You should get these values in your main program by calling circle_calc function and then print them\n",
    "\n",
    "[Solution](https://github.com/codebasics/py/blob/master/Basics/Exercise/11_dict_tuples/11_dict_exercise_3_circle.py)"
   ]
  },
  {
   "cell_type": "code",
   "execution_count": 27,
   "metadata": {},
   "outputs": [],
   "source": [
    "population = {\n",
    "    \"China\" : 143,\n",
    "    \"India\" : 136,\n",
    "    \"USA\" : 32,\n",
    "    \"Pakistan\" : 21,\n",
    "}\n",
    "\n",
    "def print_dict(p):\n",
    "    for k in p:\n",
    "        print(f\"{k} ==> {population[k]}\")\n",
    "\n",
    "def add():\n",
    "    c = input(\"Enter a Country name: \")\n",
    "    \n",
    "    if c in population:\n",
    "        print(\"Country already exist in dataset\")\n",
    "    else:\n",
    "        p = input(\"Enter Population: \")\n",
    "        population[c] = p\n",
    "        print_dict(population)\n",
    "\n",
    "def remove(c):\n",
    "    if c in population:\n",
    "        del population[c]\n",
    "    else:\n",
    "        print(\"Country dosen't exist in dataset\")\n",
    "\n",
    "def query():\n",
    "    c = input(\"Enter a Country name: \")\n",
    "    \n",
    "    if c in population:\n",
    "        print(\"Population:\", population[c], \"Cr.\")\n",
    "    else:\n",
    "        print(\"Country doesn't exist in dataset\")\n",
    "    \n",
    "# print_dict(population)\n",
    "\n",
    "# add()\n",
    "\n",
    "# remove(\"Afganistan\")\n",
    "# remove(\"Pakistan\")\n",
    "\n",
    "# query()"
   ]
  },
  {
   "cell_type": "code",
   "execution_count": 28,
   "metadata": {},
   "outputs": [
    {
     "name": "stdout",
     "output_type": "stream",
     "text": [
      "info ==> [600, 630, 620] ==> avg: 616.67\n",
      "ril ==> [1430, 1490, 1567] ==> avg: 1495.67\n",
      "mtl ==> [234, 180, 160] ==> avg: 191.33\n",
      "rel ==> [120] ==> avg: 120.0\n"
     ]
    }
   ],
   "source": [
    "data = {\n",
    "    \"info\" : [600, 630, 620],\n",
    "    \"ril\" : [1430, 1490, 1567],\n",
    "    \"mtl\" : [234, 180, 160]\n",
    "}\n",
    "\n",
    "def print_dict(d):\n",
    "    for k in d:\n",
    "        print(f\"{k} ==> {data[k]} ==> avg: {round(sum(data[k])/len(data[k]), 2)}\")\n",
    "\n",
    "def add(s,tp):\n",
    "    if s in data:\n",
    "        data[s].append(tp)\n",
    "    else:\n",
    "        # temp = []\n",
    "        # temp.append(tp)\n",
    "        # data[s] = temp;\n",
    "\n",
    "        data[s] = list([tp])\n",
    "\n",
    "# print_dict(data)\n",
    "\n",
    "add(\"rel\", 120)\n",
    "print_dict(data)"
   ]
  },
  {
   "cell_type": "code",
   "execution_count": 29,
   "metadata": {},
   "outputs": [
    {
     "name": "stdout",
     "output_type": "stream",
     "text": [
      "Area: 40114.997, Circumference: 710.0, Diameter: 226\n"
     ]
    }
   ],
   "source": [
    "import math\n",
    "\n",
    "PI = math.pi\n",
    "\n",
    "# PI = 22/7 # NOT Good instead use 355/113\n",
    "\n",
    "def circle_calc(r):\n",
    "    a = PI*r*r\n",
    "    c = 2*PI*r\n",
    "    d = 2*r\n",
    "\n",
    "    return round(a,3), round(c,3), round(d,3)\n",
    "\n",
    "# radius = input(\"Radius of Circle: \")\n",
    "# radius = float(radius)\n",
    "\n",
    "radius = 113\n",
    "area, circumference, diameter = circle_calc(radius)\n",
    "\n",
    "print(f\"Area: {area}, Circumference: {circumference}, Diameter: {diameter}\")\n"
   ]
  },
  {
   "attachments": {},
   "cell_type": "markdown",
   "metadata": {},
   "source": [
    "### Exercise: Python Read Write File\n",
    "1. [poem.txt](https://github.com/codebasics/py/blob/master/Basics/Exercise/13_read_write_files/poem.txt) contains famous poem \"Road not taken\" by poet Robert Frost. You have to read this file in your python program and find out words with maximum occurance.\n",
    "\n",
    "\n",
    "[Solution](https://github.com/codebasics/py/blob/master/Basics/Exercise/13_read_write_files/exercise_2_stocks.py)\n",
    "\n",
    "2. [stocks.csv](https://github.com/codebasics/py/blob/master/Basics/Exercise/13_read_write_files/stocks.csv) contains stock price, earnings per share and book value. You are writing a stock market application that will process this file and create a new file\n",
    "with financial metrics such as pe ratio and price to book ratio. These are calculated as,\n",
    "```\n",
    "pe ratio = price / earnings per share\n",
    "price to book ratio = price / book value\n",
    "```\n",
    "\n",
    "\n",
    "Your input format (stocks.csv) is,\n",
    "\n",
    "|Company Name|Price|Earnings Per Share|Book Value|\n",
    "|-------|----------|-------|----------|\n",
    "|Reliance|1467|66|653|\n",
    "|Tata Steel|391|89|572|\n",
    "\n",
    "output.csv should look like this,\n",
    "\n",
    "|Company Name|PE Ratio|PB Ratio|\n",
    "|-------|----------|-------|\n",
    "|Reliance|22.23|2.25|\n",
    "|Tata Steel|4.39|0.68|\n",
    "\n",
    "[Solution](https://github.com/codebasics/py/blob/master/Basics/Exercise/13_read_write_files/exercise_2_stocks.py)"
   ]
  },
  {
   "cell_type": "code",
   "execution_count": 51,
   "metadata": {},
   "outputs": [
    {
     "name": "stdout",
     "output_type": "stream",
     "text": [
      "Maximum Occurence\n",
      "Word:I, Frequency:9\n"
     ]
    }
   ],
   "source": [
    "from typing import OrderedDict\n",
    "\n",
    "\n",
    "with open('./files/poem.txt', 'r') as f:\n",
    "    d = {}\n",
    "    s = f.read()\n",
    "    t = \"\"\n",
    "\n",
    "    # print(s)\n",
    "\n",
    "    for i in range(len(s)):\n",
    "        if (s[i] >= 'a' and s[i] <= 'z') or ( s[i] >= \"A\" and s[i]<= 'Z'):\n",
    "            t+=s[i]    \n",
    "        else:\n",
    "            if t in d:\n",
    "                d[t]+=1\n",
    "            else:\n",
    "                d[t]=1\n",
    "                \n",
    "            # print(t.lower())\n",
    "            t = \"\"\n",
    "\n",
    "    # print(d)\n",
    "\n",
    "    mx = 0\n",
    "    ans = \"xyz\"\n",
    "    for s,f in d.items():\n",
    "        if f>mx and s!='':\n",
    "            mx=f\n",
    "            ans=s\n",
    "\n",
    "    print(f\"Maximum Occurence\\nWord:{ans}, Frequency:{mx}\")"
   ]
  },
  {
   "cell_type": "code",
   "execution_count": 70,
   "metadata": {},
   "outputs": [],
   "source": [
    "from lib2to3.pgen2 import token\n",
    "from tokenize import Token\n",
    "\n",
    "\n",
    "with open('./files/stocks.csv', 'r') as s, open('./files/output.csv', 'w') as o:\n",
    "    next(s) # skip first line   \n",
    "    o.write(\"Company Name,PE Ratio,PB Ratio\\n\")\n",
    "    \n",
    "    for line in s:\n",
    "        tokens = line.split(',') # splitting line contents into tokens in a csv(',')\n",
    "\n",
    "        company_name = tokens[0]\n",
    "        price = float(tokens[1])\n",
    "        eps = float(tokens[2])\n",
    "        book = float(tokens[3])\n",
    "\n",
    "        # print(company_name, price, eps, book)\n",
    "\n",
    "        pe_ratio = round(price/eps,2)\n",
    "        pb_ratio = round(price/book,2)\n",
    "\n",
    "        o.write(f\"{company_name},{pe_ratio},{pb_ratio}\\n\")"
   ]
  }
 ],
 "metadata": {
  "kernelspec": {
   "display_name": "venv",
   "language": "python",
   "name": "python3"
  },
  "language_info": {
   "codemirror_mode": {
    "name": "ipython",
    "version": 3
   },
   "file_extension": ".py",
   "mimetype": "text/x-python",
   "name": "python",
   "nbconvert_exporter": "python",
   "pygments_lexer": "ipython3",
   "version": "3.10.5 (tags/v3.10.5:f377153, Jun  6 2022, 16:14:13) [MSC v.1929 64 bit (AMD64)]"
  },
  "orig_nbformat": 4,
  "vscode": {
   "interpreter": {
    "hash": "e67bdea3ab344799b3db3926bb94eb3c6bb09edbe3b73faf58cb7bae61dfb27d"
   }
  }
 },
 "nbformat": 4,
 "nbformat_minor": 2
}
