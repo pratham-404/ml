{
 "cells": [
  {
   "cell_type": "code",
   "execution_count": 1,
   "metadata": {},
   "outputs": [],
   "source": [
    "import scipy\n",
    "import numpy as np"
   ]
  },
  {
   "cell_type": "code",
   "execution_count": 2,
   "metadata": {},
   "outputs": [
    {
     "name": "stdout",
     "output_type": "stream",
     "text": [
      "   2\n",
      "3 x + 4 x + 5\n"
     ]
    }
   ],
   "source": [
    "# representing polynomials using numpy module\n",
    "p = np.poly1d([3,4,5])\n",
    "print(p)"
   ]
  },
  {
   "cell_type": "code",
   "execution_count": 6,
   "metadata": {},
   "outputs": [
    {
     "name": "stdout",
     "output_type": "stream",
     "text": [
      "   3     2\n",
      "1 x + 2 x + 5 x\n",
      "   3     2\n",
      "1 x + 2 x + 5 x + 11\n"
     ]
    }
   ],
   "source": [
    "# Intergation of polynomials\n",
    "print(p.integ()) # by default k = 0\n",
    "print(p.integ(k=11))"
   ]
  },
  {
   "cell_type": "code",
   "execution_count": 7,
   "metadata": {},
   "outputs": [
    {
     "name": "stdout",
     "output_type": "stream",
     "text": [
      " \n",
      "6 x + 4\n"
     ]
    }
   ],
   "source": [
    "# Differentiation of polynomials\n",
    "print(p.deriv())"
   ]
  },
  {
   "cell_type": "code",
   "execution_count": 21,
   "metadata": {},
   "outputs": [
    {
     "name": "stdout",
     "output_type": "stream",
     "text": [
      "7\n",
      "[3, 4, 1, 2]\n",
      "[4 6]\n",
      "[4, 6]\n"
     ]
    }
   ],
   "source": [
    "# Vectorizing functions\n",
    "\n",
    "def add(a,b):\n",
    "    return a+b\n",
    "\n",
    "print(add(3,4))\n",
    "print(add([3,4],[1,2]))\n",
    "\n",
    "# using numpy module to vectorize a function\n",
    "vector_add = np.vectorize(add)\n",
    "print(vector_add([3,4],[1,2]))\n",
    "\n",
    "# Defining a vectorized function from scratch\n",
    "def vectorize_add(a,b):\n",
    "    c = []\n",
    "    for k in range(0,len(a)):\n",
    "        c.append(a[k] + b[k])\n",
    "    return c\n",
    "\n",
    "# print(vectorize_add(3,4)) # ERROR\n",
    "print(vectorize_add([3,4],[1,2]))"
   ]
  },
  {
   "attachments": {},
   "cell_type": "markdown",
   "metadata": {},
   "source": [
    "#### Special Functions of Scipy"
   ]
  },
  {
   "cell_type": "code",
   "execution_count": null,
   "metadata": {},
   "outputs": [],
   "source": [
    "# Airy Functions => \n",
    "# Bessel Functions => \n",
    "# Logit Funtions => \n",
    "# Gamma Function => \n",
    "# Error Function => \n"
   ]
  },
  {
   "cell_type": "code",
   "execution_count": null,
   "metadata": {},
   "outputs": [],
   "source": [
    "# Entropy Function"
   ]
  }
 ],
 "metadata": {
  "kernelspec": {
   "display_name": "venv",
   "language": "python",
   "name": "python3"
  },
  "language_info": {
   "codemirror_mode": {
    "name": "ipython",
    "version": 3
   },
   "file_extension": ".py",
   "mimetype": "text/x-python",
   "name": "python",
   "nbconvert_exporter": "python",
   "pygments_lexer": "ipython3",
   "version": "3.10.5"
  },
  "orig_nbformat": 4,
  "vscode": {
   "interpreter": {
    "hash": "e67bdea3ab344799b3db3926bb94eb3c6bb09edbe3b73faf58cb7bae61dfb27d"
   }
  }
 },
 "nbformat": 4,
 "nbformat_minor": 2
}
